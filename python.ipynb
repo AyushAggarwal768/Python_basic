{
 "cells": [
  {
   "cell_type": "code",
   "execution_count": 1,
   "metadata": {},
   "outputs": [
    {
     "name": "stdout",
     "output_type": "stream",
     "text": [
      "   #\n",
      "  ###\n",
      " #####\n",
      "#######\n"
     ]
    }
   ],
   "source": [
    "for i in range(0,4):\n",
    "    for j in range(0,3-i):\n",
    "        print(\" \",end=\"\")\n",
    "    \n",
    "    for j in range(0,2*i+1):\n",
    "        print(\"#\",end=\"\")\n",
    "    print()"
   ]
  },
  {
   "cell_type": "code",
   "execution_count": 2,
   "metadata": {},
   "outputs": [
    {
     "name": "stdout",
     "output_type": "stream",
     "text": [
      "#\n",
      "##\n",
      "###\n",
      "####\n"
     ]
    }
   ],
   "source": [
    "for i in range(0,4):\n",
    "    for j in range(0,i+1):\n",
    "       print(\"#\",end=\"\")\n",
    "    print()"
   ]
  },
  {
   "cell_type": "code",
   "execution_count": 3,
   "metadata": {},
   "outputs": [
    {
     "name": "stdout",
     "output_type": "stream",
     "text": [
      "#\n",
      "##\n",
      "###\n",
      "####\n",
      "###\n",
      "##\n",
      "#\n"
     ]
    }
   ],
   "source": [
    "for i in range(0,7):\n",
    "    if(i<4):\n",
    "        for j in range(0,i+1):\n",
    "            print(\"#\",end=\"\")\n",
    "        \n",
    "    else:\n",
    "        \n",
    "        for k in range(0,7-i):\n",
    "            print(\"#\",end=\"\")\n",
    "    print()\n",
    "        "
   ]
  },
  {
   "cell_type": "code",
   "execution_count": 4,
   "metadata": {},
   "outputs": [
    {
     "name": "stdout",
     "output_type": "stream",
     "text": [
      "#######\n",
      " #####\n",
      "  ###\n",
      "   #\n"
     ]
    }
   ],
   "source": [
    "for i in range(0,4):\n",
    "    for j in range(0,i):\n",
    "        print(\" \",end=\"\")\n",
    "        \n",
    "        \n",
    "    for j in range(0,7-2*i):\n",
    "        print(\"#\",end=\"\")  \n",
    "    print()"
   ]
  },
  {
   "cell_type": "code",
   "execution_count": 5,
   "metadata": {},
   "outputs": [
    {
     "name": "stdout",
     "output_type": "stream",
     "text": [
      "   #\n",
      "  ###\n",
      " #####\n",
      "#######\n",
      " #####\n",
      "  ###\n",
      "   #\n"
     ]
    }
   ],
   "source": [
    "for i in range(0,7):\n",
    "    if(i<4):\n",
    "        for j in range(0,3-i):\n",
    "            print(\" \",end=\"\")\n",
    "    \n",
    "        for j in range(0,2*i+1):\n",
    "            print(\"#\",end=\"\")\n",
    "        \n",
    "    else:\n",
    "        for j in range(0,i-3):\n",
    "            print(\" \",end=\"\")\n",
    "            \n",
    "        for j in range(0,13-i*2):\n",
    "             print(\"#\",end=\"\")\n",
    "    print()"
   ]
  },
  {
   "cell_type": "code",
   "execution_count": 6,
   "metadata": {},
   "outputs": [
    {
     "name": "stdout",
     "output_type": "stream",
     "text": [
      "####\n",
      "###\n",
      "##\n",
      "#\n"
     ]
    }
   ],
   "source": [
    "for i in range(0,4):\n",
    "    for j in range(0,4-i):\n",
    "        print(\"#\",end=\"\")\n",
    "    print()"
   ]
  },
  {
   "cell_type": "code",
   "execution_count": 7,
   "metadata": {},
   "outputs": [
    {
     "name": "stdout",
     "output_type": "stream",
     "text": [
      "###^###\n",
      "##^^^##\n",
      "#^^^^^#\n",
      "^^^^^^^\n"
     ]
    }
   ],
   "source": [
    "for i in range(0,4):\n",
    "    for j in range(0,3-i):\n",
    "        print(\"#\",end=\"\")\n",
    "    \n",
    "    for j in range(0,2*i+1):\n",
    "        print(\"^\",end=\"\")\n",
    "        \n",
    "    for j in range(0,3-i):\n",
    "        print(\"#\",end=\"\")\n",
    "    print()\n"
   ]
  },
  {
   "cell_type": "code",
   "execution_count": 8,
   "metadata": {},
   "outputs": [
    {
     "name": "stdout",
     "output_type": "stream",
     "text": [
      "^#######\n",
      "^^^#####\n",
      "^^^^^###\n",
      "^^^^^^^#\n"
     ]
    }
   ],
   "source": [
    "for i in range(0,4):\n",
    "    for j in range(0,2*i+1):\n",
    "        print(\"^\",end=\"\")\n",
    "        \n",
    "    for j in range(0,7-2*i):\n",
    "        print(\"#\",end=\"\")\n",
    "    print()"
   ]
  },
  {
   "cell_type": "code",
   "execution_count": 9,
   "metadata": {},
   "outputs": [
    {
     "name": "stdout",
     "output_type": "stream",
     "text": [
      "AAAA^^^^\n",
      "^AAAA^^^\n",
      "^^AAAA^^\n",
      "^^^AAAA^\n",
      "^^^^AAAA\n"
     ]
    }
   ],
   "source": [
    "for i in range(0,5):\n",
    "    for j in range(1,i+1):\n",
    "        print(\"^\",end=\"\")\n",
    "        \n",
    "    for j in range(1,5-i):\n",
    "        print(\"A\",end=\"\")\n",
    "    \n",
    "    for j in range(1,i+1):\n",
    "        print(\"A\",end=\"\")\n",
    "        \n",
    "    for j in range(1,5-i):\n",
    "        print(\"^\",end=\"\")\n",
    "    print()"
   ]
  },
  {
   "cell_type": "code",
   "execution_count": 10,
   "metadata": {},
   "outputs": [
    {
     "name": "stdout",
     "output_type": "stream",
     "text": [
      "1 \n",
      "2 3 \n",
      "4 5 6 \n",
      "7 8 9 10 \n",
      "11 12 13 14 15 \n"
     ]
    }
   ],
   "source": [
    "k=1\n",
    "for i in range(0,5):\n",
    "    for j in range(0,i+1):\n",
    "        print(k,end=\" \")\n",
    "        k=k+1\n",
    "    print()"
   ]
  },
  {
   "cell_type": "code",
   "execution_count": 11,
   "metadata": {
    "scrolled": true
   },
   "outputs": [
    {
     "name": "stdout",
     "output_type": "stream",
     "text": [
      "3 \n",
      "6 \n",
      "9 \n",
      "12 \n",
      "15 \n",
      "18 \n",
      "21 \n",
      "24 \n",
      "27 \n",
      "30 \n"
     ]
    }
   ],
   "source": [
    "# table of 3 using while loop\n",
    "i=1\n",
    "while(i<=10):\n",
    "    print(3*i,end=\" \")\n",
    "    i=i+1\n",
    "    print()"
   ]
  },
  {
   "cell_type": "code",
   "execution_count": 12,
   "metadata": {},
   "outputs": [
    {
     "name": "stdout",
     "output_type": "stream",
     "text": [
      "22.0\n"
     ]
    }
   ],
   "source": [
    "#average of table of 4\n",
    "k=0\n",
    "i=1\n",
    "while(i<=10):\n",
    "    k=k+4*i\n",
    "    i=i+1\n",
    "p=k/10\n",
    "print(p)"
   ]
  },
  {
   "cell_type": "code",
   "execution_count": 13,
   "metadata": {},
   "outputs": [
    {
     "name": "stdout",
     "output_type": "stream",
     "text": [
      "4\n"
     ]
    }
   ],
   "source": [
    "# //--> for int value\n",
    "a=9\n",
    "b=a//2\n",
    "print(b)"
   ]
  },
  {
   "cell_type": "code",
   "execution_count": 14,
   "metadata": {},
   "outputs": [
    {
     "name": "stdout",
     "output_type": "stream",
     "text": [
      "223\n"
     ]
    }
   ],
   "source": [
    "#sum of list\n",
    "k=0\n",
    "i=0\n",
    "a=[10,11,12,35,65,90] #list\n",
    "while(i<6):\n",
    "    k=k+a[i]\n",
    "    i=i+1;\n",
    "print(k)\n",
    "\n"
   ]
  },
  {
   "cell_type": "code",
   "execution_count": 15,
   "metadata": {},
   "outputs": [
    {
     "name": "stdout",
     "output_type": "stream",
     "text": [
      "12521 same number\n"
     ]
    }
   ],
   "source": [
    "x=12521\n",
    "rev=0\n",
    "y=x\n",
    "while(y>0):\n",
    "    rev=rev*10+y%10\n",
    "    y=y//10\n",
    "if(rev==x):\n",
    "    print(x,\"same number\")\n",
    "else:\n",
    "    print(x,\"not same number\")\n",
    "    "
   ]
  },
  {
   "cell_type": "code",
   "execution_count": 16,
   "metadata": {},
   "outputs": [
    {
     "name": "stdout",
     "output_type": "stream",
     "text": [
      "not palindrome 25\n",
      "palindrome 121\n",
      "palindrome 393\n",
      "not palindrome 624\n",
      "palindrome 12321\n",
      "12835\n"
     ]
    }
   ],
   "source": [
    "# check palindrome and add them\n",
    "a=[25,121,393,624,12321]\n",
    "i=0\n",
    "add=0\n",
    "while(i<5):\n",
    "    k=a[i]\n",
    "    \n",
    "    y=k\n",
    "    rev=0\n",
    "    while(y>0):\n",
    "        rev=rev*10+y%10\n",
    "        y=y//10\n",
    "    if(rev==k):\n",
    "        \n",
    "        print(\"palindrome\",a[i])\n",
    "        add=add+rev\n",
    "               \n",
    "    else:\n",
    "        print(\"not palindrome\",a[i])\n",
    "    i=i+1\n",
    "print(add)\n",
    "    "
   ]
  },
  {
   "cell_type": "code",
   "execution_count": null,
   "metadata": {},
   "outputs": [],
   "source": [
    "a=[25,121,393,624,12321]\n",
    "i=0\n",
    "add=0\n",
    "while(i<5):\n",
    "    k=a[i]\n",
    "    y=k\n",
    "    eve=0\n",
    "    while(y>0):\n",
    "        eve=a[i]%2==0\n",
    "\n",
    "    "
   ]
  },
  {
   "cell_type": "code",
   "execution_count": 2,
   "metadata": {},
   "outputs": [
    {
     "name": "stdout",
     "output_type": "stream",
     "text": [
      "\n",
      "1 \n",
      "2 2 \n",
      "3 3 3 \n",
      "4 4 4 4 \n"
     ]
    }
   ],
   "source": [
    "for i in range(0,5):\n",
    "    for j in range(1,i+1):\n",
    "        print(i,end=\" \")\n",
    "    print()\n",
    "        \n",
    "        \n",
    "  "
   ]
  },
  {
   "cell_type": "code",
   "execution_count": 3,
   "metadata": {},
   "outputs": [
    {
     "name": "stdout",
     "output_type": "stream",
     "text": [
      "1 \n",
      "2 2 \n",
      "3 3 3 \n",
      "4 4 4 4 \n",
      "5 5 5 5 5 \n"
     ]
    }
   ],
   "source": [
    "for i in range(0,5):\n",
    "    for j in range(0,i+1):\n",
    "        print(i+1,end=\" \")\n",
    "    print()\n",
    "        "
   ]
  },
  {
   "cell_type": "code",
   "execution_count": 2,
   "metadata": {},
   "outputs": [
    {
     "name": "stdout",
     "output_type": "stream",
     "text": [
      "28 is not prime\n"
     ]
    }
   ],
   "source": [
    "k=0\n",
    "x=28\n",
    "i=1\n",
    "while(i<(x+1)):\n",
    "    if(x%i==0):\n",
    "        k=k+1\n",
    "    i=i+1\n",
    "if(k==2):\n",
    "    print(x,\"is prime\")\n",
    "else:\n",
    "    print(x,\"is not prime\")"
   ]
  },
  {
   "cell_type": "code",
   "execution_count": null,
   "metadata": {},
   "outputs": [],
   "source": [
    "\n"
   ]
  },
  {
   "cell_type": "code",
   "execution_count": 4,
   "metadata": {},
   "outputs": [
    {
     "name": "stdout",
     "output_type": "stream",
     "text": [
      "12 is not prime\n",
      "13 is prime\n",
      "7 is prime\n",
      "24 is not prime\n",
      "29 is prime\n",
      "39 is not prime\n",
      "6 is not prime\n",
      "89 is prime\n",
      "79 is prime\n"
     ]
    }
   ],
   "source": [
    "# find prime number in list\n",
    "a=[12,13,7,24,29,39,6,89,79]\n",
    "\n",
    "for x in a:\n",
    "    k=0\n",
    "    b=1\n",
    "     \n",
    "    while(b<(x+1)):\n",
    "        if(x%b==0):\n",
    "            k=k+1\n",
    "        b=b+1\n",
    "    if(k==2):\n",
    "        print(x,\"is prime\")\n",
    "    else:\n",
    "        print(x,\"is not prime\")\n"
   ]
  },
  {
   "cell_type": "code",
   "execution_count": 2,
   "metadata": {},
   "outputs": [
    {
     "name": "stdout",
     "output_type": "stream",
     "text": [
      "12 is not prime\n",
      "13 is prime\n",
      "7 is prime\n",
      "24 is not prime\n",
      "29 is prime\n",
      "39 is not prime\n",
      "6 is not prime\n",
      "89 is prime\n",
      "79 is prime\n"
     ]
    }
   ],
   "source": [
    "a=[12,13,7,24,29,39,6,89,79]\n",
    "p=0\n",
    "q=len(a)\n",
    "while(p<q):\n",
    "    x=a[p]\n",
    "    k=0\n",
    "    b=1\n",
    "    \n",
    "    while(b<(x+1)):\n",
    "        if(x%b==0):\n",
    "            k=k+1\n",
    "        b=b+1\n",
    "    p=p+1\n",
    "    if(k==2):\n",
    "        print(x,\"is prime\")\n",
    "    else:\n",
    "        print(x,\"is not prime\")\n"
   ]
  },
  {
   "cell_type": "code",
   "execution_count": null,
   "metadata": {},
   "outputs": [],
   "source": [
    "#prime factors \n",
    "a=1\n",
    "x=351\n",
    "while(a<(x+1)):\n",
    "    if(x%a==0):\n",
    "        k=0\n",
    "        i=1\n",
    "        while(i<(a+1)):\n",
    "            if(a%i==0):\n",
    "                k=k+1\n",
    "                i=i+1\n",
    "        if(k==2):\n",
    "            print(a,\"is a prime factor\")\n",
    "    a=a+1\n"
   ]
  },
  {
   "cell_type": "code",
   "execution_count": 1,
   "metadata": {},
   "outputs": [],
   "source": [
    "a=1\n",
    "x=351\n",
    "while(a<(x+1)):\n",
    "    if(x%a==0):\n",
    "        k=0\n",
    "        i=1\n",
    "    if(k==2):\n",
    "            print(a,\"is a prime factor\")\n",
    "    a=a+1"
   ]
  },
  {
   "cell_type": "code",
   "execution_count": 8,
   "metadata": {},
   "outputs": [
    {
     "name": "stdout",
     "output_type": "stream",
     "text": [
      "1\n",
      "3\n",
      "9\n",
      "13\n",
      "27\n",
      "39\n",
      "117\n",
      "351\n"
     ]
    }
   ],
   "source": [
    "k=0\n",
    "x=351\n",
    "i=1\n",
    "while(i<(x+1)):\n",
    "    if(x%i==0):\n",
    "        k=k+1\n",
    "        print(i)\n",
    "    i=i+1\n",
    "    \n",
    "    \n"
   ]
  },
  {
   "cell_type": "code",
   "execution_count": 5,
   "metadata": {},
   "outputs": [
    {
     "name": "stdout",
     "output_type": "stream",
     "text": [
      "1\n"
     ]
    },
    {
     "ename": "KeyboardInterrupt",
     "evalue": "",
     "output_type": "error",
     "traceback": [
      "\u001b[1;31m---------------------------------------------------------------------------\u001b[0m",
      "\u001b[1;31mKeyboardInterrupt\u001b[0m                         Traceback (most recent call last)",
      "\u001b[1;32m<ipython-input-5-e78084c8847d>\u001b[0m in \u001b[0;36m<module>\u001b[1;34m\u001b[0m\n\u001b[0;32m      2\u001b[0m \u001b[0mi\u001b[0m\u001b[1;33m=\u001b[0m\u001b[1;36m1\u001b[0m\u001b[1;33m\u001b[0m\u001b[1;33m\u001b[0m\u001b[0m\n\u001b[0;32m      3\u001b[0m \u001b[1;32mwhile\u001b[0m\u001b[1;33m(\u001b[0m\u001b[0mi\u001b[0m\u001b[1;33m<\u001b[0m\u001b[1;33m(\u001b[0m\u001b[0mx\u001b[0m\u001b[1;33m+\u001b[0m\u001b[1;36m1\u001b[0m\u001b[1;33m)\u001b[0m\u001b[1;33m)\u001b[0m\u001b[1;33m:\u001b[0m\u001b[1;33m\u001b[0m\u001b[1;33m\u001b[0m\u001b[0m\n\u001b[1;32m----> 4\u001b[1;33m     \u001b[1;32mif\u001b[0m\u001b[1;33m(\u001b[0m\u001b[0mx\u001b[0m\u001b[1;33m%\u001b[0m\u001b[0mi\u001b[0m\u001b[1;33m==\u001b[0m\u001b[1;36m0\u001b[0m\u001b[1;33m)\u001b[0m\u001b[1;33m:\u001b[0m\u001b[1;33m\u001b[0m\u001b[1;33m\u001b[0m\u001b[0m\n\u001b[0m\u001b[0;32m      5\u001b[0m \u001b[1;33m\u001b[0m\u001b[0m\n\u001b[0;32m      6\u001b[0m         \u001b[0ma\u001b[0m\u001b[1;33m=\u001b[0m\u001b[1;36m1\u001b[0m\u001b[1;33m\u001b[0m\u001b[1;33m\u001b[0m\u001b[0m\n",
      "\u001b[1;31mKeyboardInterrupt\u001b[0m: "
     ]
    }
   ],
   "source": [
    "x=351\n",
    "i=1\n",
    "while(i<(x+1)):\n",
    "    if(x%i==0):\n",
    "       \n",
    "        a=1\n",
    "        print(i)\n",
    "        i=i+1"
   ]
  },
  {
   "cell_type": "code",
   "execution_count": 10,
   "metadata": {},
   "outputs": [
    {
     "name": "stdout",
     "output_type": "stream",
     "text": [
      "lcm is 120\n"
     ]
    }
   ],
   "source": [
    "#lcm\n",
    "x=40\n",
    "y=60\n",
    "k=y\n",
    "while(k<(x*y+1)):\n",
    "    if(k%x==0)&(k%y==0):\n",
    "        print(\"lcm is\",k)\n",
    "        break\n",
    "    k=k+1\n",
    "    "
   ]
  },
  {
   "cell_type": "code",
   "execution_count": 1,
   "metadata": {},
   "outputs": [
    {
     "name": "stdout",
     "output_type": "stream",
     "text": [
      "lcm is 0\n"
     ]
    },
    {
     "ename": "KeyboardInterrupt",
     "evalue": "",
     "output_type": "error",
     "traceback": [
      "\u001b[1;31m---------------------------------------------------------------------------\u001b[0m",
      "\u001b[1;31mKeyboardInterrupt\u001b[0m                         Traceback (most recent call last)",
      "\u001b[1;32m<ipython-input-1-3d570270dae7>\u001b[0m in \u001b[0;36m<module>\u001b[1;34m\u001b[0m\n\u001b[0;32m      7\u001b[0m     \u001b[0ma\u001b[0m\u001b[1;33m=\u001b[0m\u001b[0mx\u001b[0m\u001b[1;33m[\u001b[0m\u001b[0mp\u001b[0m\u001b[1;33m]\u001b[0m\u001b[1;33m\u001b[0m\u001b[1;33m\u001b[0m\u001b[0m\n\u001b[0;32m      8\u001b[0m     \u001b[1;32mwhile\u001b[0m\u001b[1;33m(\u001b[0m\u001b[0mk\u001b[0m\u001b[1;33m<\u001b[0m\u001b[1;33m(\u001b[0m\u001b[0ma\u001b[0m\u001b[1;33m*\u001b[0m\u001b[0my\u001b[0m\u001b[1;33m+\u001b[0m\u001b[1;36m1\u001b[0m\u001b[1;33m)\u001b[0m\u001b[1;33m)\u001b[0m\u001b[1;33m:\u001b[0m\u001b[1;33m\u001b[0m\u001b[1;33m\u001b[0m\u001b[0m\n\u001b[1;32m----> 9\u001b[1;33m         \u001b[1;32mif\u001b[0m\u001b[1;33m(\u001b[0m\u001b[0mk\u001b[0m\u001b[1;33m%\u001b[0m\u001b[0ma\u001b[0m\u001b[1;33m==\u001b[0m\u001b[1;36m0\u001b[0m\u001b[1;33m)\u001b[0m\u001b[1;33m&\u001b[0m\u001b[1;33m(\u001b[0m\u001b[0mk\u001b[0m\u001b[1;33m%\u001b[0m\u001b[0my\u001b[0m\u001b[1;33m==\u001b[0m\u001b[1;36m0\u001b[0m\u001b[1;33m)\u001b[0m\u001b[1;33m:\u001b[0m\u001b[1;33m\u001b[0m\u001b[1;33m\u001b[0m\u001b[0m\n\u001b[0m\u001b[0;32m     10\u001b[0m             \u001b[0mprint\u001b[0m\u001b[1;33m(\u001b[0m\u001b[1;34m\"lcm is\"\u001b[0m\u001b[1;33m,\u001b[0m\u001b[0mk\u001b[0m\u001b[1;33m)\u001b[0m\u001b[1;33m\u001b[0m\u001b[1;33m\u001b[0m\u001b[0m\n\u001b[0;32m     11\u001b[0m             \u001b[1;32mbreak\u001b[0m\u001b[1;33m\u001b[0m\u001b[1;33m\u001b[0m\u001b[0m\n",
      "\u001b[1;31mKeyboardInterrupt\u001b[0m: "
     ]
    }
   ],
   "source": [
    "x=[30,40,50,20,10,120,45]\n",
    "y=1\n",
    "p=0\n",
    "k=0\n",
    "q=len(x)\n",
    "while(p<q):\n",
    "    a=x[p]\n",
    "    while(k<(a*y+1)):\n",
    "        if(k%a==0)&(k%y==0):\n",
    "            print(\"lcm is\",k)\n",
    "            break\n",
    "    k=k+1\n",
    "p=p+1"
   ]
  },
  {
   "cell_type": "code",
   "execution_count": 1,
   "metadata": {},
   "outputs": [
    {
     "name": "stdout",
     "output_type": "stream",
     "text": [
      "50\n",
      "354637996\n",
      "lcm is 27300\n"
     ]
    }
   ],
   "source": [
    "#highest multipe,\n",
    "x=[13,14,50,20,10,12,15]\n",
    "k=x[0]\n",
    "for i in x:\n",
    "    if(i>k):\n",
    "        k=i\n",
    "print(k)      \n",
    "y=1\n",
    "for i in x:\n",
    "    y=y*i\n",
    "    y=y+1\n",
    "print(y)\n",
    "while(k<(y+1)):\n",
    "    p=0\n",
    "    for i in x:\n",
    "        if(k%i==0):\n",
    "            p=p+1\n",
    "    if(p==len(x)):\n",
    "        print(\"lcm is\",k)\n",
    "        break\n",
    "    k=k+1\n",
    "            "
   ]
  },
  {
   "cell_type": "code",
   "execution_count": 3,
   "metadata": {},
   "outputs": [
    {
     "name": "stdout",
     "output_type": "stream",
     "text": [
      "hcf is 10\n"
     ]
    }
   ],
   "source": [
    "x=30\n",
    "y=40\n",
    "k=y\n",
    "if(x>y):\n",
    "    k=x\n",
    "else:\n",
    "    k=y\n",
    "while(k>0):\n",
    "    if(x%k==0)&(y%k==0):\n",
    "        print(\"hcf is\",k)\n",
    "        break\n",
    "    k=k-1\n",
    "    "
   ]
  },
  {
   "cell_type": "code",
   "execution_count": 12,
   "metadata": {},
   "outputs": [
    {
     "name": "stdout",
     "output_type": "stream",
     "text": [
      "10\n",
      "hcf is 5\n"
     ]
    }
   ],
   "source": [
    "x=[10,20,15,25,35,40,45]\n",
    "k=x[0]\n",
    "for i in x:\n",
    "    if(i<k):\n",
    "        k=i\n",
    "    \n",
    "print(k)      \n",
    "while(k>0):\n",
    "    p=0\n",
    "    for i in x:\n",
    "        if(i%k==0):\n",
    "            p=p+1\n",
    "    if(p==len(x)):\n",
    "        print(\"hcf is\",k)\n",
    "        break\n",
    "    k=k-1"
   ]
  },
  {
   "cell_type": "code",
   "execution_count": 13,
   "metadata": {},
   "outputs": [
    {
     "name": "stdout",
     "output_type": "stream",
     "text": [
      "10\n",
      "hcf is 5\n",
      "lcm is 12600\n"
     ]
    }
   ],
   "source": [
    "x=[10,20,15,25,35,40,45]\n",
    "k=x[0]\n",
    "for i in x:\n",
    "    if(i<k):\n",
    "        k=i\n",
    "    \n",
    "print(k)      \n",
    "while(k>0):\n",
    "    p=0\n",
    "    for i in x:\n",
    "        if(i%k==0):\n",
    "            p=p+1\n",
    "    if(p==len(x)):\n",
    "        print(\"hcf is\",k)\n",
    "        break\n",
    "    k=k-1\n",
    "while(k<(y+1)):\n",
    "    p=0\n",
    "    for i in x:\n",
    "        if(k%i==0):\n",
    "            p=p+1\n",
    "    if(p==len(x)):\n",
    "        print(\"lcm is\",k)\n",
    "        break\n",
    "    k=k+1"
   ]
  },
  {
   "cell_type": "code",
   "execution_count": null,
   "metadata": {},
   "outputs": [],
   "source": []
  },
  {
   "cell_type": "code",
   "execution_count": 1,
   "metadata": {},
   "outputs": [
    {
     "name": "stdout",
     "output_type": "stream",
     "text": [
      "10\n",
      "90\n",
      "720\n",
      "5040\n",
      "30240\n",
      "151200\n",
      "604800\n",
      "1814400\n",
      "3628800\n",
      "3628800\n"
     ]
    }
   ],
   "source": [
    "n=10\n",
    "k=1\n",
    "while(n>0):\n",
    "    k=k*n\n",
    "    n=n-1\n",
    "    print(k)"
   ]
  },
  {
   "cell_type": "code",
   "execution_count": 3,
   "metadata": {},
   "outputs": [
    {
     "name": "stdout",
     "output_type": "stream",
     "text": [
      "[1, 3, 5, 2, 12]\n"
     ]
    }
   ],
   "source": [
    "#sorting\n",
    "k=0\n",
    "a=[3,1,12,5,2]\n",
    "x=len(a)\n",
    "for i in range(0,x-1):\n",
    "    if(a[i]>a[i+1]):\n",
    "        k=a[i]\n",
    "        a[i]=a[i+1]\n",
    "        a[i+1]=k\n",
    "    else:\n",
    "        pass\n",
    "print(a)\n"
   ]
  },
  {
   "cell_type": "code",
   "execution_count": 2,
   "metadata": {},
   "outputs": [
    {
     "name": "stdout",
     "output_type": "stream",
     "text": [
      "[1, 2, 3, 5, 12]\n"
     ]
    }
   ],
   "source": [
    "#sorting\n",
    "k=0\n",
    "a=[3,1,12,5,2]\n",
    "x=len(a)\n",
    "\n",
    "while(x>1):\n",
    "    for i in range(0,x-1):\n",
    "        if(a[i]>a[i+1]):\n",
    "            k=a[i]\n",
    "            a[i]=a[i+1]\n",
    "            a[i+1]=k\n",
    "    else:\n",
    "        pass\n",
    "    x=x-1\n",
    "print(a)"
   ]
  },
  {
   "cell_type": "code",
   "execution_count": 9,
   "metadata": {},
   "outputs": [
    {
     "name": "stdout",
     "output_type": "stream",
     "text": [
      "90\n"
     ]
    }
   ],
   "source": [
    "x=[3,9,11,12,13,15,17,19,20,24,26]\n",
    "\n",
    "b=0\n",
    "a=len(x)\n",
    "for i in range(0,a):\n",
    "    if(i%2==0):\n",
    "        b=b+x[i]\n",
    "  \n",
    "print(b)"
   ]
  },
  {
   "cell_type": "code",
   "execution_count": 4,
   "metadata": {},
   "outputs": [
    {
     "name": "stdout",
     "output_type": "stream",
     "text": [
      "90\n"
     ]
    }
   ],
   "source": [
    "x=[3,9,11,12,13,15,17,19,20,24,26]\n",
    "\n",
    "b=0\n",
    "a=len(x)\n",
    "for i in range(0,a):\n",
    "    if(i%2==0):\n",
    "        b=b+x[i]\n",
    "    \n",
    "  \n",
    "print(b)"
   ]
  },
  {
   "cell_type": "code",
   "execution_count": null,
   "metadata": {},
   "outputs": [],
   "source": []
  }
 ],
 "metadata": {
  "kernelspec": {
   "display_name": "Python 3",
   "language": "python",
   "name": "python3"
  },
  "language_info": {
   "codemirror_mode": {
    "name": "ipython",
    "version": 3
   },
   "file_extension": ".py",
   "mimetype": "text/x-python",
   "name": "python",
   "nbconvert_exporter": "python",
   "pygments_lexer": "ipython3",
   "version": "3.7.3"
  }
 },
 "nbformat": 4,
 "nbformat_minor": 2
}
