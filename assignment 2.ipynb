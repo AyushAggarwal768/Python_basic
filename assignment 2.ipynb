{
 "cells": [
  {
   "cell_type": "code",
   "execution_count": 38,
   "metadata": {},
   "outputs": [
    {
     "name": "stdout",
     "output_type": "stream",
     "text": [
      "224\n",
      "[2, 4, 8, 14, 16, 28, 32, 56, 112, 224]\n",
      "sum of even factors of 224 is 496\n",
      "388\n",
      "[2, 4, 194, 388]\n",
      "sum of even factors of 388 is 588\n",
      "120\n",
      "[2, 4, 6, 8, 10, 12, 20, 24, 30, 40, 60, 120]\n",
      "sum of even factors of 120 is 336\n",
      "570\n",
      "[2, 6, 10, 30, 38, 114, 190, 570]\n",
      "sum of even factors of 570 is 960\n",
      "1234\n",
      "[2, 1234]\n",
      "sum of even factors of 1234 is 1236\n",
      "sum of even factors of all no. 3616\n"
     ]
    }
   ],
   "source": [
    "z=[224,388,120,570,1234]\n",
    "y=len(z)\n",
    "x=[]\n",
    "w=[]\n",
    "for i in range(0,y):\n",
    "    a=z[i]\n",
    "    b=1\n",
    "    c=0\n",
    "    while(b<a+1):\n",
    "        if(a%b==0)&(b%2==0):     \n",
    "            x.append(b)\n",
    "            c=c+b\n",
    "        b=b+1\n",
    "    w.append(c)\n",
    "        \n",
    "    print(a)\n",
    "    print(x)\n",
    "    x.clear()\n",
    "    print(\"sum of even factors of\",a,\"is\",c)\n",
    "    \n",
    "print(\"sum of even factors of all no.\",sum(w))\n",
    "   "
   ]
  },
  {
   "cell_type": "code",
   "execution_count": 1,
   "metadata": {},
   "outputs": [
    {
     "name": "stdout",
     "output_type": "stream",
     "text": [
      "224\n",
      "[2, 4, 8, 14, 16, 28, 32, 56, 112, 224]\n",
      "sum of even factors of 224 is 496\n",
      "388\n",
      "[2, 4, 194, 388]\n",
      "sum of even factors of 388 is 588\n",
      "120\n",
      "[2, 4, 6, 8, 10, 12, 20, 24, 30, 40, 60, 120]\n",
      "sum of even factors of 120 is 336\n",
      "570\n",
      "[2, 6, 10, 30, 38, 114, 190, 570]\n",
      "sum of even factors of 570 is 960\n",
      "1234\n",
      "[2, 1234]\n",
      "sum of even factors of 1234 is 1236\n",
      "sum of even factors of all no. 3616\n"
     ]
    }
   ],
   "source": [
    "def z(p,*q):\n",
    "    q=list(q)\n",
    "    q.insert(0,p)\n",
    "    y=len(q)\n",
    "    x=[]\n",
    "    w=[]\n",
    "    for i in range(0,y):\n",
    "        a=q[i]\n",
    "        b=1\n",
    "        c=0\n",
    "        while(b<a+1):\n",
    "            if(a%b==0)&(b%2==0):     \n",
    "                x.append(b)\n",
    "                c=c+b\n",
    "            b=b+1\n",
    "        w.append(c)\n",
    "        \n",
    "        print(a)\n",
    "        print(x)\n",
    "        x.clear()\n",
    "        print(\"sum of even factors of\",a,\"is\",c)\n",
    "    print(\"sum of even factors of all no.\",sum(w))\n",
    "   \n",
    "z(224,388,120,570,1234)"
   ]
  },
  {
   "cell_type": "code",
   "execution_count": null,
   "metadata": {},
   "outputs": [],
   "source": []
  },
  {
   "cell_type": "code",
   "execution_count": null,
   "metadata": {},
   "outputs": [],
   "source": []
  }
 ],
 "metadata": {
  "kernelspec": {
   "display_name": "Python 3",
   "language": "python",
   "name": "python3"
  },
  "language_info": {
   "codemirror_mode": {
    "name": "ipython",
    "version": 3
   },
   "file_extension": ".py",
   "mimetype": "text/x-python",
   "name": "python",
   "nbconvert_exporter": "python",
   "pygments_lexer": "ipython3",
   "version": "3.7.3"
  }
 },
 "nbformat": 4,
 "nbformat_minor": 2
}
