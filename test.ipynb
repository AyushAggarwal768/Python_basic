{
 "cells": [
  {
   "cell_type": "code",
   "execution_count": 18,
   "metadata": {},
   "outputs": [
    {
     "name": "stdout",
     "output_type": "stream",
     "text": [
      "*\n",
      "**\n",
      "***\n",
      "****\n",
      "*****\n"
     ]
    }
   ],
   "source": [
    "for i in range(5):\n",
    "    print(\"*\"*(i+1))"
   ]
  },
  {
   "cell_type": "code",
   "execution_count": 23,
   "metadata": {},
   "outputs": [
    {
     "name": "stdout",
     "output_type": "stream",
     "text": [
      "a random number between 1-10 1\n"
     ]
    }
   ],
   "source": [
    "from random import randint\n",
    "x=randint(1,10)\n",
    "print(\"a random number between 1-10\",x)"
   ]
  },
  {
   "cell_type": "code",
   "execution_count": 24,
   "metadata": {},
   "outputs": [
    {
     "data": {
      "text/plain": [
       "['__doc__',\n",
       " '__loader__',\n",
       " '__name__',\n",
       " '__package__',\n",
       " '__spec__',\n",
       " 'acos',\n",
       " 'acosh',\n",
       " 'asin',\n",
       " 'asinh',\n",
       " 'atan',\n",
       " 'atan2',\n",
       " 'atanh',\n",
       " 'ceil',\n",
       " 'copysign',\n",
       " 'cos',\n",
       " 'cosh',\n",
       " 'degrees',\n",
       " 'e',\n",
       " 'erf',\n",
       " 'erfc',\n",
       " 'exp',\n",
       " 'expm1',\n",
       " 'fabs',\n",
       " 'factorial',\n",
       " 'floor',\n",
       " 'fmod',\n",
       " 'frexp',\n",
       " 'fsum',\n",
       " 'gamma',\n",
       " 'gcd',\n",
       " 'hypot',\n",
       " 'inf',\n",
       " 'isclose',\n",
       " 'isfinite',\n",
       " 'isinf',\n",
       " 'isnan',\n",
       " 'ldexp',\n",
       " 'lgamma',\n",
       " 'log',\n",
       " 'log10',\n",
       " 'log1p',\n",
       " 'log2',\n",
       " 'modf',\n",
       " 'nan',\n",
       " 'pi',\n",
       " 'pow',\n",
       " 'radians',\n",
       " 'remainder',\n",
       " 'sin',\n",
       " 'sinh',\n",
       " 'sqrt',\n",
       " 'tan',\n",
       " 'tanh',\n",
       " 'tau',\n",
       " 'trunc']"
      ]
     },
     "execution_count": 24,
     "metadata": {},
     "output_type": "execute_result"
    }
   ],
   "source": [
    "import math\n",
    "dir(math)"
   ]
  },
  {
   "cell_type": "code",
   "execution_count": 27,
   "metadata": {},
   "outputs": [
    {
     "data": {
      "text/plain": [
       "720"
      ]
     },
     "execution_count": 27,
     "metadata": {},
     "output_type": "execute_result"
    }
   ],
   "source": [
    "from math import*\n",
    "factorial(6)"
   ]
  },
  {
   "cell_type": "code",
   "execution_count": 50,
   "metadata": {},
   "outputs": [
    {
     "name": "stdout",
     "output_type": "stream",
     "text": [
      "0 1 2 3 \n",
      "4 5 6 \n",
      "7 8 \n",
      "9 \n"
     ]
    }
   ],
   "source": [
    "k=0\n",
    "for i in range(0,4):\n",
    "    for j in range(0,4-i):\n",
    "        print(k,end=\" \")\n",
    "        k=k+1\n",
    "    print()"
   ]
  },
  {
   "cell_type": "code",
   "execution_count": null,
   "metadata": {},
   "outputs": [],
   "source": [
    "#prime factors \n",
    "a=1\n",
    "x=351\n",
    "while(a<(x+1)):\n",
    "    if(x%a==0):\n",
    "        k=0\n",
    "        i=1\n",
    "        while(i<a+1):\n",
    "            if(a%i==0):\n",
    "                k=k+1\n",
    "                i=i+1\n",
    "        if(k==2):\n",
    "            print(a,\"is a prime factor\")\n",
    "a=a+1\n"
   ]
  },
  {
   "cell_type": "code",
   "execution_count": 1,
   "metadata": {},
   "outputs": [
    {
     "name": "stdout",
     "output_type": "stream",
     "text": [
      "1\n",
      "13\n"
     ]
    }
   ],
   "source": [
    "x=13\n",
    "i=1\n",
    "while(i<(x+1)):\n",
    "    if(x%i==0):\n",
    "        k=0\n",
    "        y=1\n",
    "        while(y<(x+1)):\n",
    "            if(x%y==0):\n",
    "                k=k+1\n",
    "            y=y+1\n",
    "        if(k==2):\n",
    "            print(i)\n",
    "    i=i+1\n",
    "    \n",
    "    \n",
    "    \n",
    "    "
   ]
  },
  {
   "cell_type": "code",
   "execution_count": 2,
   "metadata": {},
   "outputs": [
    {
     "name": "stdout",
     "output_type": "stream",
     "text": [
      "3269 not prime\n"
     ]
    }
   ],
   "source": [
    "x=3269\n",
    "i=1\n",
    "k=0\n",
    "while(i<x+1):\n",
    "    if(x%i==0):\n",
    "        k=k+1\n",
    "    i=i+1\n",
    "if(k==2):\n",
    "    print(x,\"is prime\")\n",
    "else:\n",
    "    print(x,\"not prime\")\n",
    "        "
   ]
  },
  {
   "cell_type": "code",
   "execution_count": null,
   "metadata": {},
   "outputs": [],
   "source": [
    "x=[3,9,11,12,13,22,24,29,39]\n",
    "i=len(x)\n",
    "k=0\n",
    "a=0\n",
    "while(k<i):\n",
    "    i=i+x[i]\n",
    "print(k)\n",
    "        "
   ]
  },
  {
   "cell_type": "code",
   "execution_count": null,
   "metadata": {},
   "outputs": [],
   "source": [
    "x=[3,9,11,12,13,22,24,29,39]\n",
    "a=x[0]\n",
    "k=0\n",
    "i=0\n",
    "for i in x:\n",
    "    k=k+x[i]\n",
    "i=i+1\n",
    "print(k)"
   ]
  },
  {
   "cell_type": "code",
   "execution_count": 29,
   "metadata": {
    "scrolled": true
   },
   "outputs": [
    {
     "name": "stdout",
     "output_type": "stream",
     "text": [
      "   #        #        #\n",
      "  ###      ###      ###\n",
      " #####    #####    #####\n",
      "#######  #######  #######\n"
     ]
    }
   ],
   "source": [
    "for i in range(0,4):\n",
    "    for j in range(0,3-i):\n",
    "        print(\" \",end=\"\")\n",
    "    for j in range(0,2*i+1):\n",
    "        print(\"#\",end=\"\")\n",
    "              \n",
    "    for j in range(0,4-i):\n",
    "        print(\" \",end=\" \")\n",
    "    for j in range(0,2*i+1):\n",
    "        print(\"#\",end=\"\")\n",
    "        \n",
    "    for j in range(0,4-i):\n",
    "        print(\" \",end=\" \")\n",
    "    for j in range(0,2*i+1):\n",
    "        print(\"#\",end=\"\")\n",
    "        \n",
    "    print()"
   ]
  },
  {
   "cell_type": "code",
   "execution_count": 48,
   "metadata": {},
   "outputs": [
    {
     "name": "stdout",
     "output_type": "stream",
     "text": [
      "12\n",
      "24\n",
      "36\n",
      "48\n",
      "60\n",
      "72\n",
      "84\n",
      "96\n",
      "108\n",
      "120\n"
     ]
    }
   ],
   "source": [
    "x=3\n",
    "y=4\n",
    "z=5\n",
    "a=x+y+z\n",
    "for i in range(1,11):\n",
    "    print((a)*i)\n",
    "    i=i+1"
   ]
  },
  {
   "cell_type": "code",
   "execution_count": 14,
   "metadata": {},
   "outputs": [
    {
     "name": "stdout",
     "output_type": "stream",
     "text": [
      "even no. from A 12\n",
      "odd no.from A 3\n",
      "even no. from A 4\n",
      "even no. from A 54\n",
      "even no. from A 16\n",
      "even no. from A 78\n",
      "even no. from A 98\n",
      "even no. from A 54\n",
      "\n",
      "\n",
      "odd no.from B 21\n",
      "odd no.from B 45\n",
      "even no. from B 76\n",
      "odd no.from B 89\n",
      "odd no.from B 89\n",
      "odd no.from B 21\n",
      "even no. from B 34\n",
      "odd no.from B 5\n",
      "\n",
      "\n",
      "sum of even values of A and odd values of B 586\n"
     ]
    }
   ],
   "source": [
    "A=[12,3,4,54,16,78,98,54]\n",
    "B=[21,45,76,89,89,21,34,5]\n",
    "n=0\n",
    "m=0\n",
    "sum=0\n",
    "for i in range(0,len(A)):\n",
    "    if(A[i]%2==0):\n",
    "        print(\"even no. from A\",A[i])\n",
    "        n=n+A[i]\n",
    "       \n",
    "    if(A[i]%2!=0):\n",
    "        print(\"odd no.from A\",A[i])\n",
    "print(\"\\n\")\n",
    "        \n",
    "        \n",
    "for j in range(0,len(B)):\n",
    "    if(B[j]%2==0):\n",
    "        print(\"even no. from B\",B[j])\n",
    "    \n",
    "    if(B[j]%2!=0):\n",
    "        print(\"odd no.from B\",B[j])\n",
    "        m=m+B[j]\n",
    "print(\"\\n\")        \n",
    "\n",
    "#sum of even values to A and odd values of B\n",
    "\n",
    "sum=n+m\n",
    "print(\"sum of even values of A and odd values of B\",sum)\n",
    "    \n",
    "\n",
    "                \n"
   ]
  },
  {
   "cell_type": "code",
   "execution_count": 122,
   "metadata": {},
   "outputs": [
    {
     "ename": "IndentationError",
     "evalue": "unexpected indent (<ipython-input-122-b18693f3a342>, line 15)",
     "output_type": "error",
     "traceback": [
      "\u001b[1;36m  File \u001b[1;32m\"<ipython-input-122-b18693f3a342>\"\u001b[1;36m, line \u001b[1;32m15\u001b[0m\n\u001b[1;33m    if(w%2!=0):\u001b[0m\n\u001b[1;37m    ^\u001b[0m\n\u001b[1;31mIndentationError\u001b[0m\u001b[1;31m:\u001b[0m unexpected indent\n"
     ]
    }
   ],
   "source": [
    "A=[12,3,4,54,16,78,98,54]\n",
    "B=[21,45,76,89,89,21,34,5]\n",
    "n=0\n",
    "m=0\n",
    "w=A[i]\n",
    "u=B[j]\n",
    "sum=0\n",
    "x=len(A)\n",
    "y=len(B)\n",
    "\n",
    "z=0\n",
    "w=0\n",
    "u=0\n",
    "\n",
    "\n",
    "for i in range(0,x):\n",
    "    if(w%2==0):\n",
    "        print(\"even no. from A\",w)\n",
    "        n=n+w\n",
    "      \n",
    "    if(w%2!=0):\n",
    "        print(\"odd no.from A\",w)\n",
    "        \n",
    "        \n",
    "for j in range(0,y):\n",
    "    if(u%2==0):\n",
    "        print(\"even no. from B\",u)\n",
    "    \n",
    "    if(u%2!=0):\n",
    "        print(\"odd no.from B\",u)\n",
    "        m=m+B[j]\n",
    "        \n",
    "\n",
    "#add even values of A to odd values of B\n",
    "z=w+u\n",
    "sum=n+m\n",
    "print(\"sum of even values of A and odd values of B\",z)\n",
    "    \n",
    "\n",
    "                \n"
   ]
  },
  {
   "cell_type": "code",
   "execution_count": 42,
   "metadata": {},
   "outputs": [
    {
     "name": "stdout",
     "output_type": "stream",
     "text": [
      "even no. from A 12\n",
      "odd no.from A 3\n",
      "even no. from A 4\n",
      "even no. from A 54\n",
      "even no. from A 16\n",
      "even no. from A 78\n",
      "even no. from A 98\n",
      "even no. from A 54\n",
      "odd no.from B 21\n",
      "odd no.from B 45\n",
      "even no. from B 76\n",
      "odd no.from B 89\n",
      "odd no.from B 89\n",
      "odd no.from B 21\n",
      "even no. from B 34\n",
      "odd no.from B 5\n"
     ]
    }
   ],
   "source": [
    "A=[12,3,4,54,16,78,98,54]\n",
    "B=[21,45,76,89,89,21,34,5]\n",
    "\n",
    "x=len(A)\n",
    "y=len(B)\n",
    "\n",
    "z=0\n",
    "w=0\n",
    "u=0\n",
    "\n",
    "\n",
    "for i in range(0,x):\n",
    "    if(A[i]%2==0):\n",
    "        print(\"even no. from A\",A[i])\n",
    "        w=A[i]\n",
    "    \n",
    "    if(A[i]%2!=0):\n",
    "        print(\"odd no.from A\",A[i])\n",
    "        \n",
    "        \n",
    "for j in range(0,y):\n",
    "    if(B[j]%2==0):\n",
    "        print(\"even no. from B\",B[j])\n",
    "    \n",
    "    if(B[j]%2!=0):\n",
    "        print(\"odd no.from B\",B[j])\n",
    "        u=B[j]\n",
    "        \n",
    "\n",
    "        #add even values of A to odd values of B\n",
    "while(x<y):\n",
    "    z=w+u\n",
    "    print(\"sum of even values of A and odd values of B\",z)\n",
    "    \n",
    "\n",
    "                \n"
   ]
  },
  {
   "cell_type": "code",
   "execution_count": 15,
   "metadata": {},
   "outputs": [
    {
     "name": "stdout",
     "output_type": "stream",
     "text": [
      "12 21\n",
      "sum of even values of A and odd values of B 33\n",
      "12 45\n",
      "sum of even values of A and odd values of B 57\n",
      "12 89\n",
      "sum of even values of A and odd values of B 101\n",
      "12 89\n",
      "sum of even values of A and odd values of B 101\n",
      "12 21\n",
      "sum of even values of A and odd values of B 33\n",
      "12 5\n",
      "sum of even values of A and odd values of B 17\n",
      "4 21\n",
      "sum of even values of A and odd values of B 25\n",
      "4 45\n",
      "sum of even values of A and odd values of B 49\n",
      "4 89\n",
      "sum of even values of A and odd values of B 93\n",
      "4 89\n",
      "sum of even values of A and odd values of B 93\n",
      "4 21\n",
      "sum of even values of A and odd values of B 25\n",
      "4 5\n",
      "sum of even values of A and odd values of B 9\n",
      "54 21\n",
      "sum of even values of A and odd values of B 75\n",
      "54 45\n",
      "sum of even values of A and odd values of B 99\n",
      "54 89\n",
      "sum of even values of A and odd values of B 143\n",
      "54 89\n",
      "sum of even values of A and odd values of B 143\n",
      "54 21\n",
      "sum of even values of A and odd values of B 75\n",
      "54 5\n",
      "sum of even values of A and odd values of B 59\n",
      "16 21\n",
      "sum of even values of A and odd values of B 37\n",
      "16 45\n",
      "sum of even values of A and odd values of B 61\n",
      "16 89\n",
      "sum of even values of A and odd values of B 105\n",
      "16 89\n",
      "sum of even values of A and odd values of B 105\n",
      "16 21\n",
      "sum of even values of A and odd values of B 37\n",
      "16 5\n",
      "sum of even values of A and odd values of B 21\n",
      "78 21\n",
      "sum of even values of A and odd values of B 99\n",
      "78 45\n",
      "sum of even values of A and odd values of B 123\n",
      "78 89\n",
      "sum of even values of A and odd values of B 167\n",
      "78 89\n",
      "sum of even values of A and odd values of B 167\n",
      "78 21\n",
      "sum of even values of A and odd values of B 99\n",
      "78 5\n",
      "sum of even values of A and odd values of B 83\n",
      "98 21\n",
      "sum of even values of A and odd values of B 119\n",
      "98 45\n",
      "sum of even values of A and odd values of B 143\n",
      "98 89\n",
      "sum of even values of A and odd values of B 187\n",
      "98 89\n",
      "sum of even values of A and odd values of B 187\n",
      "98 21\n",
      "sum of even values of A and odd values of B 119\n",
      "98 5\n",
      "sum of even values of A and odd values of B 103\n",
      "54 21\n",
      "sum of even values of A and odd values of B 75\n",
      "54 45\n",
      "sum of even values of A and odd values of B 99\n",
      "54 89\n",
      "sum of even values of A and odd values of B 143\n",
      "54 89\n",
      "sum of even values of A and odd values of B 143\n",
      "54 21\n",
      "sum of even values of A and odd values of B 75\n",
      "54 5\n",
      "sum of even values of A and odd values of B 59\n"
     ]
    }
   ],
   "source": [
    "A=[12,3,4,54,16,78,98,54]\n",
    "B=[21,45,76,89,89,21,34,5]\n",
    "sum=0\n",
    "\n",
    "for i in range(0,len(A)):        \n",
    "    for j in range(0,len(B)):\n",
    "        if(A[i]%2==0)&(B[j]%2!=0):\n",
    "            print(A[i],B[j])\n",
    "            sum=A[i]+B[j]\n",
    "            print(\"sum of even values of A and odd values of B\",sum)\n",
    "\n",
    "           \n",
    "   \n",
    "           \n",
    "       \n",
    "        \n",
    "        "
   ]
  },
  {
   "cell_type": "code",
   "execution_count": 115,
   "metadata": {},
   "outputs": [
    {
     "name": "stdout",
     "output_type": "stream",
     "text": [
      "12 21\n",
      "sum of even values of A and odd values of B 33\n",
      "4 21\n",
      "sum of even values of A and odd values of B 25\n",
      "54 45\n",
      "sum of even values of A and odd values of B 99\n",
      "16 89\n",
      "sum of even values of A and odd values of B 105\n",
      "78 89\n",
      "sum of even values of A and odd values of B 167\n",
      "98 21\n",
      "sum of even values of A and odd values of B 119\n",
      "54 5\n",
      "sum of even values of A and odd values of B 59\n",
      "54 21\n",
      "sum of even values of A and odd values of B 75\n",
      "16 45\n",
      "sum of even values of A and odd values of B 61\n",
      "78 89\n",
      "sum of even values of A and odd values of B 167\n",
      "98 89\n",
      "sum of even values of A and odd values of B 187\n",
      "54 21\n",
      "sum of even values of A and odd values of B 75\n"
     ]
    },
    {
     "ename": "IndexError",
     "evalue": "list index out of range",
     "output_type": "error",
     "traceback": [
      "\u001b[1;31m---------------------------------------------------------------------------\u001b[0m",
      "\u001b[1;31mIndexError\u001b[0m                                Traceback (most recent call last)",
      "\u001b[1;32m<ipython-input-115-b7db1f725dd3>\u001b[0m in \u001b[0;36m<module>\u001b[1;34m\u001b[0m\n\u001b[0;32m      7\u001b[0m \u001b[1;32mfor\u001b[0m \u001b[0mi\u001b[0m \u001b[1;32min\u001b[0m \u001b[0mrange\u001b[0m\u001b[1;33m(\u001b[0m\u001b[1;36m0\u001b[0m\u001b[1;33m,\u001b[0m\u001b[0mx\u001b[0m\u001b[1;33m)\u001b[0m\u001b[1;33m:\u001b[0m\u001b[1;33m\u001b[0m\u001b[1;33m\u001b[0m\u001b[0m\n\u001b[0;32m      8\u001b[0m     \u001b[1;32mfor\u001b[0m \u001b[0mj\u001b[0m \u001b[1;32min\u001b[0m \u001b[0mrange\u001b[0m\u001b[1;33m(\u001b[0m\u001b[1;36m0\u001b[0m\u001b[1;33m,\u001b[0m\u001b[0my\u001b[0m\u001b[1;33m)\u001b[0m\u001b[1;33m:\u001b[0m\u001b[1;33m\u001b[0m\u001b[1;33m\u001b[0m\u001b[0m\n\u001b[1;32m----> 9\u001b[1;33m         \u001b[1;32mif\u001b[0m\u001b[1;33m(\u001b[0m\u001b[0mA\u001b[0m\u001b[1;33m[\u001b[0m\u001b[0mi\u001b[0m\u001b[1;33m]\u001b[0m\u001b[1;33m%\u001b[0m\u001b[1;36m2\u001b[0m\u001b[1;33m==\u001b[0m\u001b[1;36m0\u001b[0m\u001b[1;33m)\u001b[0m\u001b[1;33m&\u001b[0m\u001b[1;33m(\u001b[0m\u001b[0mB\u001b[0m\u001b[1;33m[\u001b[0m\u001b[0mj\u001b[0m\u001b[1;33m]\u001b[0m\u001b[1;33m%\u001b[0m\u001b[1;36m2\u001b[0m\u001b[1;33m!=\u001b[0m\u001b[1;36m0\u001b[0m\u001b[1;33m)\u001b[0m\u001b[1;33m:\u001b[0m\u001b[1;33m\u001b[0m\u001b[1;33m\u001b[0m\u001b[0m\n\u001b[0m\u001b[0;32m     10\u001b[0m             \u001b[0mn\u001b[0m\u001b[1;33m=\u001b[0m\u001b[0mA\u001b[0m\u001b[1;33m[\u001b[0m\u001b[0mi\u001b[0m\u001b[1;33m]\u001b[0m\u001b[1;33m\u001b[0m\u001b[1;33m\u001b[0m\u001b[0m\n\u001b[0;32m     11\u001b[0m             \u001b[0mi\u001b[0m\u001b[1;33m=\u001b[0m\u001b[0mi\u001b[0m\u001b[1;33m+\u001b[0m\u001b[1;36m1\u001b[0m\u001b[1;33m\u001b[0m\u001b[1;33m\u001b[0m\u001b[0m\n",
      "\u001b[1;31mIndexError\u001b[0m: list index out of range"
     ]
    }
   ],
   "source": [
    "A=[12,3,4,54,16,78,98,54]\n",
    "B=[21,45,76,89,89,21,34,5]\n",
    "\n",
    "sum=0\n",
    "x=len(A)\n",
    "y=len(B)\n",
    "for i in range(0,x):        \n",
    "    for j in range(0,y):\n",
    "        if(A[i]%2==0)&(B[j]%2!=0):\n",
    "            n=A[i]\n",
    "            i=i+1\n",
    "            m=B[j]\n",
    "            j=j=1\n",
    "            print(n,m)\n",
    "            sum=n+m\n",
    "            print(\"sum of even values of A and odd values of B\",sum)"
   ]
  },
  {
   "cell_type": "code",
   "execution_count": 163,
   "metadata": {},
   "outputs": [
    {
     "name": "stdout",
     "output_type": "stream",
     "text": [
      "12 21\n",
      "sum of even values of A and odd values of B 33\n",
      "4 21\n",
      "sum of even values of A and odd values of B 25\n",
      "54 21\n",
      "sum of even values of A and odd values of B 75\n",
      "16 21\n",
      "sum of even values of A and odd values of B 37\n",
      "78 21\n",
      "sum of even values of A and odd values of B 99\n",
      "98 21\n",
      "sum of even values of A and odd values of B 119\n",
      "54 21\n",
      "sum of even values of A and odd values of B 75\n"
     ]
    }
   ],
   "source": [
    "A=[12,3,4,54,16,78,98,54]\n",
    "B=[21,45,76,89,89,21,34,5]\n",
    "x=len(A)\n",
    "y=len(B)\n",
    "\n",
    "for i in range(0,x):        \n",
    "    for j in range(0,y):\n",
    "        if(A[i]%2==0)&(B[j]%2!=0):\n",
    "            n=A[i]\n",
    "            m=B[j]\n",
    "            \n",
    "            print(n,m)\n",
    "   \n",
    "            sum=n+m\n",
    "           \n",
    "            print(\"sum of even values of A and odd values of B\",sum)\n",
    "            break"
   ]
  },
  {
   "cell_type": "code",
   "execution_count": 199,
   "metadata": {},
   "outputs": [
    {
     "name": "stdout",
     "output_type": "stream",
     "text": [
      "12\n",
      "4\n",
      "54\n",
      "16\n",
      "78\n",
      "98\n",
      "54\n",
      "21\n",
      "sum of even values of A and odd values of B 75\n",
      "45\n",
      "sum of even values of A and odd values of B 99\n",
      "89\n",
      "sum of even values of A and odd values of B 143\n",
      "89\n",
      "sum of even values of A and odd values of B 143\n",
      "21\n",
      "sum of even values of A and odd values of B 75\n",
      "33\n",
      "sum of even values of A and odd values of B 87\n",
      "5\n",
      "sum of even values of A and odd values of B 59\n"
     ]
    }
   ],
   "source": [
    "A=[12,3,4,54,16,78,98,54]\n",
    "B=[21,45,76,89,89,21,33,5]\n",
    "\n",
    "\n",
    "x=len(A)\n",
    "y=len(B)\n",
    "for i in range(0,x):\n",
    "    if(A[i]%2==0):\n",
    "        #print(\"even no. from A\",A[i])\n",
    "        n=A[i]\n",
    "        \n",
    "        print(n)\n",
    "\n",
    "for j in range(0,y):\n",
    "    if(B[j]%2!=0):\n",
    "        #print(\"odd no.from B\",B[j])\n",
    "        m=B[j]\n",
    "        print(m)\n",
    "        #add even values of A to odd values of B\n",
    "        sum=n+m\n",
    "        print(\"sum of even values of A and odd values of B\",sum)\n"
   ]
  },
  {
   "cell_type": "code",
   "execution_count": 13,
   "metadata": {},
   "outputs": [
    {
     "name": "stdout",
     "output_type": "stream",
     "text": [
      "12 21\n",
      "sum of even values of A and odd values of B 33\n",
      "4 21\n",
      "sum of even values of A and odd values of B 25\n",
      "54 45\n",
      "sum of even values of A and odd values of B 99\n",
      "16 89\n",
      "sum of even values of A and odd values of B 105\n",
      "78 89\n",
      "sum of even values of A and odd values of B 167\n",
      "98 21\n",
      "sum of even values of A and odd values of B 119\n",
      "54 33\n",
      "sum of even values of A and odd values of B 87\n"
     ]
    },
    {
     "ename": "IndexError",
     "evalue": "list index out of range",
     "output_type": "error",
     "traceback": [
      "\u001b[1;31m---------------------------------------------------------------------------\u001b[0m",
      "\u001b[1;31mIndexError\u001b[0m                                Traceback (most recent call last)",
      "\u001b[1;32m<ipython-input-13-e6cab5b73d36>\u001b[0m in \u001b[0;36m<module>\u001b[1;34m\u001b[0m\n\u001b[0;32m      6\u001b[0m \u001b[1;32mfor\u001b[0m \u001b[0mi\u001b[0m \u001b[1;32min\u001b[0m \u001b[0mrange\u001b[0m\u001b[1;33m(\u001b[0m\u001b[1;36m0\u001b[0m\u001b[1;33m,\u001b[0m\u001b[0mx\u001b[0m\u001b[1;33m)\u001b[0m\u001b[1;33m:\u001b[0m\u001b[1;33m\u001b[0m\u001b[1;33m\u001b[0m\u001b[0m\n\u001b[0;32m      7\u001b[0m     \u001b[1;32mfor\u001b[0m \u001b[0mj\u001b[0m \u001b[1;32min\u001b[0m \u001b[0mrange\u001b[0m\u001b[1;33m(\u001b[0m\u001b[1;36m0\u001b[0m\u001b[1;33m,\u001b[0m\u001b[0my\u001b[0m\u001b[1;33m)\u001b[0m\u001b[1;33m:\u001b[0m\u001b[1;33m\u001b[0m\u001b[1;33m\u001b[0m\u001b[0m\n\u001b[1;32m----> 8\u001b[1;33m         \u001b[0mn\u001b[0m\u001b[1;33m=\u001b[0m\u001b[0mA\u001b[0m\u001b[1;33m[\u001b[0m\u001b[0mi\u001b[0m\u001b[1;33m]\u001b[0m\u001b[1;33m\u001b[0m\u001b[1;33m\u001b[0m\u001b[0m\n\u001b[0m\u001b[0;32m      9\u001b[0m         \u001b[0mm\u001b[0m\u001b[1;33m=\u001b[0m\u001b[0mB\u001b[0m\u001b[1;33m[\u001b[0m\u001b[0mj\u001b[0m\u001b[1;33m]\u001b[0m\u001b[1;33m\u001b[0m\u001b[1;33m\u001b[0m\u001b[0m\n\u001b[0;32m     10\u001b[0m         \u001b[1;32mif\u001b[0m\u001b[1;33m(\u001b[0m\u001b[0mn\u001b[0m\u001b[1;33m%\u001b[0m\u001b[1;36m2\u001b[0m\u001b[1;33m==\u001b[0m\u001b[1;36m0\u001b[0m\u001b[1;33m)\u001b[0m\u001b[1;33m&\u001b[0m\u001b[1;33m(\u001b[0m\u001b[0mm\u001b[0m\u001b[1;33m%\u001b[0m\u001b[1;36m2\u001b[0m\u001b[1;33m!=\u001b[0m\u001b[1;36m0\u001b[0m\u001b[1;33m)\u001b[0m\u001b[1;33m:\u001b[0m\u001b[1;33m\u001b[0m\u001b[1;33m\u001b[0m\u001b[0m\n",
      "\u001b[1;31mIndexError\u001b[0m: list index out of range"
     ]
    }
   ],
   "source": [
    "A=[12,3,4,54,16,78,98,54]\n",
    "B=[21,45,76,89,89,21,33,5]\n",
    "\n",
    "x=len(A)\n",
    "y=len(B)\n",
    "for i in range(0,x):        \n",
    "    for j in range(0,y):\n",
    "        n=A[i]\n",
    "        m=B[j]\n",
    "        if(n%2==0)&(m%2!=0):\n",
    "            i=i+1\n",
    "            j=j+1\n",
    "            print(n,m)\n",
    "            \n",
    "            \n",
    "                   \n",
    "            sum=n+m\n",
    "            print(\"sum of even values of A and odd values of B\",sum)\n",
    "            "
   ]
  },
  {
   "cell_type": "code",
   "execution_count": 34,
   "metadata": {},
   "outputs": [
    {
     "name": "stdout",
     "output_type": "stream",
     "text": [
      "12\n",
      "45\n",
      "54\n",
      "16\n",
      "78\n",
      "98\n",
      "54\n"
     ]
    },
    {
     "ename": "IndexError",
     "evalue": "list index out of range",
     "output_type": "error",
     "traceback": [
      "\u001b[1;31m---------------------------------------------------------------------------\u001b[0m",
      "\u001b[1;31mIndexError\u001b[0m                                Traceback (most recent call last)",
      "\u001b[1;32m<ipython-input-34-0c587df9fa6a>\u001b[0m in \u001b[0;36m<module>\u001b[1;34m\u001b[0m\n\u001b[0;32m      7\u001b[0m     \u001b[1;32mfor\u001b[0m \u001b[0mj\u001b[0m \u001b[1;32min\u001b[0m \u001b[0mrange\u001b[0m\u001b[1;33m(\u001b[0m\u001b[1;36m0\u001b[0m\u001b[1;33m,\u001b[0m\u001b[0my\u001b[0m\u001b[1;33m)\u001b[0m\u001b[1;33m:\u001b[0m\u001b[1;33m\u001b[0m\u001b[1;33m\u001b[0m\u001b[0m\n\u001b[0;32m      8\u001b[0m \u001b[1;33m\u001b[0m\u001b[0m\n\u001b[1;32m----> 9\u001b[1;33m         \u001b[1;32mif\u001b[0m\u001b[1;33m(\u001b[0m\u001b[0mA\u001b[0m\u001b[1;33m[\u001b[0m\u001b[0mi\u001b[0m\u001b[1;33m]\u001b[0m\u001b[1;33m%\u001b[0m\u001b[1;36m2\u001b[0m\u001b[1;33m==\u001b[0m\u001b[1;36m0\u001b[0m\u001b[1;33m)\u001b[0m\u001b[1;33m:\u001b[0m\u001b[1;33m\u001b[0m\u001b[1;33m\u001b[0m\u001b[0m\n\u001b[0m\u001b[0;32m     10\u001b[0m             \u001b[0mprint\u001b[0m\u001b[1;33m(\u001b[0m\u001b[0mA\u001b[0m\u001b[1;33m[\u001b[0m\u001b[0mi\u001b[0m\u001b[1;33m]\u001b[0m\u001b[1;33m)\u001b[0m\u001b[1;33m\u001b[0m\u001b[1;33m\u001b[0m\u001b[0m\n\u001b[0;32m     11\u001b[0m             \u001b[0mi\u001b[0m\u001b[1;33m=\u001b[0m\u001b[0mi\u001b[0m\u001b[1;33m+\u001b[0m\u001b[1;36m1\u001b[0m\u001b[1;33m\u001b[0m\u001b[1;33m\u001b[0m\u001b[0m\n",
      "\u001b[1;31mIndexError\u001b[0m: list index out of range"
     ]
    }
   ],
   "source": [
    "A=[12,3,4,54,16,78,98,54]\n",
    "B=[21,45,76,89,89,21,33,5]\n",
    "\n",
    "x=len(A)\n",
    "y=len(B)\n",
    "for i in range(0,x):        \n",
    "    for j in range(0,y):\n",
    "       \n",
    "        if(A[i]%2==0):         \n",
    "            print(A[i])\n",
    "            i=i+1\n",
    "        else:\n",
    "            i=i+2\n",
    "            \n",
    "            if(B[j]%2!=0):\n",
    "                print(B[j])\n",
    "                j=j+1\n",
    "            else:\n",
    "                j=j+2\n",
    "            sum=A[i]+B[i]\n",
    "    print(\"sum of even values of A and odd values of B\",sum)\n",
    "            \n",
    "\n",
    "            "
   ]
  },
  {
   "cell_type": "code",
   "execution_count": 8,
   "metadata": {},
   "outputs": [],
   "source": [
    "A=[12,3,4,54,16,78,98,54]\n",
    "B=[21,45,76,89,89,21,33,5]\n",
    "\n",
    "n=0\n",
    "m=0\n",
    "x=len(A)\n",
    "y=len(B)\n",
    "while(n<x & m<y):\n",
    "    p=A[n]\n",
    "    q=B[m]        \n",
    "    if(p%2==0)&(q%2!=0):\n",
    "        print(p)\n",
    "        n=n+1\n",
    "        m=m+1"
   ]
  },
  {
   "cell_type": "code",
   "execution_count": 7,
   "metadata": {},
   "outputs": [
    {
     "name": "stdout",
     "output_type": "stream",
     "text": [
      "12 4 54 16 78 98 54 \n",
      "\n",
      "21 45 89 89 21 5 \n",
      "\n"
     ]
    }
   ],
   "source": [
    "A=[12,3,4,54,16,78,98,54]\n",
    "B=[21,45,76,89,89,21,34,5]\n",
    "x=len(A)\n",
    "y=len(B)\n",
    "c=[]\n",
    "sum=0\n",
    "\n",
    "\n",
    "for i in range(0,x):        \n",
    "    if(A[i]%2==0):\n",
    "          print(A[i],end=\" \")\n",
    "          \n",
    "print(\"\\n\")\n",
    "    \n",
    "for j in range(0,y):        \n",
    "    if(B[j]%2!=0):\n",
    "          print(B[j],end=\" \")\n",
    "print(\"\\n\")\n",
    "for i in range(0,x):\n",
    "    for j in range(0,y):\n",
    "         if(A[i]%2==0)&(B[j]%2!=0):\n",
    "                sum=A[i]+B[j]\n",
    "                if(A[i]%2!=0)&(B[j]%2==0):\n",
    "                    print(sum,end=\" \")\n",
    "        "
   ]
  },
  {
   "cell_type": "code",
   "execution_count": 18,
   "metadata": {},
   "outputs": [
    {
     "name": "stdout",
     "output_type": "stream",
     "text": [
      "sum of even values of A and odd values of B 33\n",
      "sum of even values of A and odd values of B 143\n",
      "sum of even values of A and odd values of B 105\n",
      "sum of even values of A and odd values of B 99\n",
      "sum of even values of A and odd values of B 59\n"
     ]
    }
   ],
   "source": [
    "A=[12,3,4,54,16,78,98,54]\n",
    "B=[21,45,76,89,89,21,34,5]\n",
    "sum=0\n",
    "for i in range(0,len(A)):\n",
    "    \n",
    "        for j in range(0,len(B)):\n",
    "            if(A[i]%2==0)&(B[j]%2!=0):\n",
    "                if(i==j):\n",
    "                    sum=A[i]+B[j]\n",
    "    \n",
    "                    print(\"sum of even values of A and odd values of B\",sum)\n",
    "            "
   ]
  },
  {
   "cell_type": "code",
   "execution_count": 40,
   "metadata": {},
   "outputs": [
    {
     "name": "stdout",
     "output_type": "stream",
     "text": [
      "even no. fom A [12, 4, 54, 16, 78, 98, 54]\n",
      "Odd no. from B [21, 45, 89, 89, 21, 5]\n",
      "[33, 49, 143, 105, 99, 103]\n"
     ]
    }
   ],
   "source": [
    "A=[12,3,4,54,16,78,98,54]\n",
    "B=[21,45,76,89,89,21,34,5]\n",
    "C=[]\n",
    "D=[]\n",
    "E=[]\n",
    "for i in range(0,len(A)):\n",
    "    if(A[i]%2==0):\n",
    "        C.append(A[i])\n",
    "print(\"even no. fom A\",C)\n",
    "for j in range(0,len(B)):\n",
    "    if(B[j]%2!=0):\n",
    "        D.append(B[j])\n",
    "print(\"Odd no. from B\",D)\n",
    "for i in range(0,len(C)):\n",
    "    for j in range(0,len(D)):\n",
    "        if(i==j):\n",
    "            sum=C[i]+D[j]\n",
    "            E.append(sum)\n",
    "print(E)\n",
    "        \n",
    "               \n",
    "              \n",
    "               "
   ]
  },
  {
   "cell_type": "code",
   "execution_count": 16,
   "metadata": {},
   "outputs": [
    {
     "name": "stdout",
     "output_type": "stream",
     "text": [
      "12 21\n",
      "12 45\n",
      "12 89\n",
      "12 89\n",
      "12 21\n",
      "12 5\n",
      "4 21\n",
      "4 45\n",
      "4 89\n",
      "4 89\n",
      "4 21\n",
      "4 5\n",
      "54 21\n",
      "54 45\n",
      "54 89\n",
      "54 89\n",
      "54 21\n",
      "54 5\n",
      "16 21\n",
      "16 45\n",
      "16 89\n",
      "16 89\n",
      "16 21\n",
      "16 5\n",
      "78 21\n",
      "78 45\n",
      "78 89\n",
      "78 89\n",
      "78 21\n",
      "78 5\n",
      "98 21\n",
      "98 45\n",
      "98 89\n",
      "98 89\n",
      "98 21\n",
      "98 5\n",
      "54 21\n",
      "54 45\n",
      "54 89\n",
      "54 89\n",
      "54 21\n",
      "54 5\n"
     ]
    }
   ],
   "source": [
    "A=[12,3,4,54,16,78,98,54]\n",
    "B=[21,45,76,89,89,21,34,5]\n",
    "x=0\n",
    "y=0\n",
    "for i in range(0,len(A)):\n",
    "    for j in range(0,len(B)):\n",
    "        if(A[i]%2==0)&(B[j]%2!=0):\n",
    "            print(A[i],B[j])\n",
    "            x=A[i]+B[j]\n",
    "        elif(A[i]%2!=0)&(B[j]%2==0):\n",
    "            y=A[i]+B[j]\n",
    "        elif(A[i]%2==0)&(B[j]%2==0):\n",
    "            pass\n",
    "        elif(A[i]%2!=0)&(B[j]%2!=0):\n",
    "            pass\n",
    "    \n",
    "        print(\"sum of even values of A and odd values of B\",x)\n",
    "        \n",
    "            "
   ]
  },
  {
   "cell_type": "code",
   "execution_count": 6,
   "metadata": {},
   "outputs": [
    {
     "name": "stdout",
     "output_type": "stream",
     "text": [
      "sum of even values of A and odd values of B 33\n",
      "sum of even values of A and odd values of B 57\n",
      "sum of even values of A and odd values of B 101\n",
      "sum of even values of A and odd values of B 101\n",
      "sum of even values of A and odd values of B 33\n",
      "sum of even values of A and odd values of B 17\n",
      "sum of even values of A and odd values of B 25\n",
      "sum of even values of A and odd values of B 49\n",
      "sum of even values of A and odd values of B 93\n",
      "sum of even values of A and odd values of B 93\n",
      "sum of even values of A and odd values of B 25\n",
      "sum of even values of A and odd values of B 9\n",
      "sum of even values of A and odd values of B 75\n",
      "sum of even values of A and odd values of B 99\n",
      "sum of even values of A and odd values of B 143\n",
      "sum of even values of A and odd values of B 143\n",
      "sum of even values of A and odd values of B 75\n",
      "sum of even values of A and odd values of B 59\n",
      "sum of even values of A and odd values of B 37\n",
      "sum of even values of A and odd values of B 61\n",
      "sum of even values of A and odd values of B 105\n",
      "sum of even values of A and odd values of B 105\n",
      "sum of even values of A and odd values of B 37\n",
      "sum of even values of A and odd values of B 21\n",
      "sum of even values of A and odd values of B 99\n",
      "sum of even values of A and odd values of B 123\n",
      "sum of even values of A and odd values of B 167\n",
      "sum of even values of A and odd values of B 167\n",
      "sum of even values of A and odd values of B 99\n",
      "sum of even values of A and odd values of B 83\n",
      "sum of even values of A and odd values of B 119\n",
      "sum of even values of A and odd values of B 143\n",
      "sum of even values of A and odd values of B 187\n",
      "sum of even values of A and odd values of B 187\n",
      "sum of even values of A and odd values of B 119\n",
      "sum of even values of A and odd values of B 103\n",
      "sum of even values of A and odd values of B 75\n",
      "sum of even values of A and odd values of B 99\n",
      "sum of even values of A and odd values of B 143\n",
      "sum of even values of A and odd values of B 143\n",
      "sum of even values of A and odd values of B 75\n",
      "sum of even values of A and odd values of B 59\n"
     ]
    }
   ],
   "source": [
    "A=[12,3,4,54,16,78,98,54]\n",
    "B=[21,45,76,89,89,21,34,5]\n",
    "sum=0\n",
    "for i in range(0,len(A)):\n",
    "    \n",
    "        for j in range(0,len(B)):\n",
    "            if(A[i]%2==0)&(B[j]%2!=0):\n",
    "                if(A[i]%2!=0)&(B[j]%2==0):\n",
    "                    pass\n",
    "                    if(A[i]%2==0)&(B[j]%2==0):\n",
    "                        pass\n",
    "                        if(A[i]%2!=0)&(B[j]%2!=0):\n",
    "                            pass\n",
    "                sum=A[i]+B[j]\n",
    "    \n",
    "                print(\"sum of even values of A and odd values of B\",sum)"
   ]
  },
  {
   "cell_type": "code",
   "execution_count": 21,
   "metadata": {},
   "outputs": [
    {
     "name": "stdout",
     "output_type": "stream",
     "text": [
      "[3, 6, 9, 12, 15, 18, 21]\n",
      "[11, 17, 23, 29, 35, 41, 47]\n"
     ]
    }
   ],
   "source": [
    "X=[]\n",
    "Y=[]\n",
    "\n",
    "for i in range(1,8):\n",
    "    X.append(3*i)\n",
    "print(X)\n",
    " \n",
    "    \n",
    "for i in X:\n",
    "    Y.append(2*i+5)\n",
    "print(Y)\n",
    "    \n",
    " \n",
    "\n",
    "    \n",
    "    "
   ]
  },
  {
   "cell_type": "code",
   "execution_count": 14,
   "metadata": {},
   "outputs": [
    {
     "name": "stdout",
     "output_type": "stream",
     "text": [
      "[1, 2, 3, 4, 5, 6, 7, 8, 9, 10, 11, 12, 13, 14, 15, 16, 17, 18, 19, 20]\n",
      "[2, 8, 18, 32, 50, 72, 98, 128, 162, 200, 242, 288, 338, 392, 450, 512, 578, 648, 722, 800]\n"
     ]
    }
   ],
   "source": [
    "X=[]\n",
    "Y=[]\n",
    "\n",
    "for i in range(1,21):\n",
    "    X.append(i*1)\n",
    "print(X)\n",
    "    \n",
    "for i in X:\n",
    "    Y.append(2*i*i)\n",
    "print(Y)\n",
    "    "
   ]
  },
  {
   "cell_type": "code",
   "execution_count": 23,
   "metadata": {},
   "outputs": [
    {
     "name": "stdout",
     "output_type": "stream",
     "text": [
      "[1, 2, 3, 4, 5, 6, 7, 8, 9, 10, 11, 12, 13, 14, 15, 16, 17, 18, 19, 20]\n",
      "[2, 1073741824, 137260754729766, 576460752303423488, 372529029846191406250, 73691306573577785966592, 6439811511626359453675214, 309485009821345068724781056, 9420257394492489669843207378, 200000000000000000000000000000, 3172618594342983148828873409782, 39562718966628301054825048571904, 403076252869222301597007912743546, 3457347479354942203134433891975168, 25566807897717878222465515136718750, 166153499473114484112975882535043072, 963937144213501830182823650446143394, 5057462178655926706199301642031988736, 24259643989178443689001002042729820358, 107374182400000000000000000000000000000]\n"
     ]
    }
   ],
   "source": [
    "X=[]\n",
    "Y=[]\n",
    "\n",
    "for i in range(1,21):\n",
    "    X.append(i*1)\n",
    "print(X)\n",
    "#    (**) -> FOR POWER     \n",
    "for i in X:\n",
    "    Y.append(2*i**29)\n",
    "print(Y)\n",
    "    "
   ]
  },
  {
   "cell_type": "code",
   "execution_count": null,
   "metadata": {},
   "outputs": [],
   "source": [
    "# if y=mx+c     poly=1\n",
    "\n",
    "# if y=ax^2     poly=2\n",
    "\n",
    "# y=ax^3        poly=3\n"
   ]
  },
  {
   "cell_type": "code",
   "execution_count": 61,
   "metadata": {},
   "outputs": [
    {
     "name": "stdout",
     "output_type": "stream",
     "text": [
      "3628800\n",
      "24\n"
     ]
    },
    {
     "ename": "ZeroDivisionError",
     "evalue": "division by zero",
     "output_type": "error",
     "traceback": [
      "\u001b[1;31m---------------------------------------------------------------------------\u001b[0m",
      "\u001b[1;31mZeroDivisionError\u001b[0m                         Traceback (most recent call last)",
      "\u001b[1;32m<ipython-input-61-3621f2426c40>\u001b[0m in \u001b[0;36m<module>\u001b[1;34m\u001b[0m\n\u001b[0;32m     19\u001b[0m \u001b[0mprint\u001b[0m\u001b[1;33m(\u001b[0m\u001b[0mk\u001b[0m\u001b[1;33m)\u001b[0m\u001b[1;33m\u001b[0m\u001b[1;33m\u001b[0m\u001b[0m\n\u001b[0;32m     20\u001b[0m \u001b[0mprint\u001b[0m\u001b[1;33m(\u001b[0m\u001b[0ml\u001b[0m\u001b[1;33m)\u001b[0m\u001b[1;33m\u001b[0m\u001b[1;33m\u001b[0m\u001b[0m\n\u001b[1;32m---> 21\u001b[1;33m \u001b[0mncr\u001b[0m\u001b[1;33m=\u001b[0m\u001b[0mk\u001b[0m\u001b[1;33m/\u001b[0m\u001b[1;33m(\u001b[0m\u001b[0ml\u001b[0m\u001b[1;33m*\u001b[0m\u001b[0mm\u001b[0m\u001b[1;33m)\u001b[0m\u001b[1;33m\u001b[0m\u001b[1;33m\u001b[0m\u001b[0m\n\u001b[0m\u001b[0;32m     22\u001b[0m \u001b[1;33m\u001b[0m\u001b[0m\n\u001b[0;32m     23\u001b[0m \u001b[0mprint\u001b[0m\u001b[1;33m(\u001b[0m\u001b[0mncr\u001b[0m\u001b[1;33m)\u001b[0m\u001b[1;33m\u001b[0m\u001b[1;33m\u001b[0m\u001b[0m\n",
      "\u001b[1;31mZeroDivisionError\u001b[0m: division by zero"
     ]
    }
   ],
   "source": [
    "n=10\n",
    "r=4\n",
    "k=1\n",
    "l=1\n",
    "m=n-r\n",
    "w=1\n",
    "\n",
    "for i in range(1,n+1):\n",
    "    while(n>0):\n",
    "        k=k*n\n",
    "        n=n-1\n",
    "        \n",
    "        while(r>0):\n",
    "            l=l*r\n",
    "            r=r-1\n",
    "            while(m>0):\n",
    "                w=w*m\n",
    "                m=m-1\n",
    "print(k)\n",
    "print(l)\n",
    "ncr=k/(l*m)\n",
    "    \n",
    "print(ncr)\n",
    "\n",
    "            \n",
    "\n",
    "\n",
    "\n",
    "    "
   ]
  },
  {
   "cell_type": "code",
   "execution_count": 58,
   "metadata": {},
   "outputs": [
    {
     "name": "stdout",
     "output_type": "stream",
     "text": [
      "3628800\n",
      "24\n",
      "720\n",
      "210\n"
     ]
    }
   ],
   "source": [
    "n=10\n",
    "r=4\n",
    "p=n-r\n",
    "a=1\n",
    "b=1\n",
    "c=1\n",
    "\n",
    "for i in range(1,n+1):\n",
    "    a=a*i\n",
    "for i in range(1,r+1):\n",
    "    b=b*i\n",
    "for i in range(1,p+1):\n",
    "    c=c*i\n",
    "ncr=a/(b*c)\n",
    "print(a)\n",
    "print(b)\n",
    "print(c)\n",
    "print(ncr)"
   ]
  },
  {
   "cell_type": "code",
   "execution_count": 7,
   "metadata": {},
   "outputs": [
    {
     "ename": "SyntaxError",
     "evalue": "invalid syntax (<ipython-input-7-04fc804b3106>, line 13)",
     "output_type": "error",
     "traceback": [
      "\u001b[1;36m  File \u001b[1;32m\"<ipython-input-7-04fc804b3106>\"\u001b[1;36m, line \u001b[1;32m13\u001b[0m\n\u001b[1;33m    elif(x%2==0):\u001b[0m\n\u001b[1;37m       ^\u001b[0m\n\u001b[1;31mSyntaxError\u001b[0m\u001b[1;31m:\u001b[0m invalid syntax\n"
     ]
    }
   ],
   "source": [
    "X=[3,12,11,21,35,63,79,89,11,21,32]\n",
    "a=[]\n",
    "b=1\n",
    "c=1\n",
    "k=1\n",
    "x=len(X)\n",
    "for i in range(0,x):\n",
    "    if(x%3==0):\n",
    "        k=x/3\n",
    "        a.append(X)\n",
    "        print(a)\n",
    "        \n",
    "    elif(x%2==0):\n",
    "        k=x/2\n",
    "        b=k/2\n",
    "    else:\n",
    "        k=k-1/2\n",
    "        k=b/2\n",
    "        b=k+1\n",
    "\n",
    "        \n",
    "\n",
    "\n",
    "\n",
    "    "
   ]
  },
  {
   "cell_type": "code",
   "execution_count": 88,
   "metadata": {},
   "outputs": [
    {
     "name": "stdout",
     "output_type": "stream",
     "text": [
      "512 is even\n"
     ]
    }
   ],
   "source": [
    "X=[3,9,12,15,20,22,29,39]\n",
    "a=len(X)\n",
    "b=0\n",
    "c=0\n",
    "d=(X[0]+X[a-1])\n",
    "for i in X:\n",
    "    if(d%2==0):\n",
    "        for i in range(0,a):\n",
    "            if(i%2==0):\n",
    "                b=b+X[i]\n",
    "                \n",
    "    else:\n",
    "        for i in range(0,a):\n",
    "            if(i%2==0):\n",
    "                b=b+X[i]\n",
    "            else:\n",
    "                c=c+X[i]\n",
    "p=b+c\n",
    "if(p%2==0):\n",
    "    print(p,\"is even\")\n",
    "else:\n",
    "    print(p,\"is odd\")\n",
    "                        \n",
    "        #62"
   ]
  },
  {
   "cell_type": "code",
   "execution_count": 3,
   "metadata": {},
   "outputs": [
    {
     "name": "stdout",
     "output_type": "stream",
     "text": [
      "2560\n",
      "2720\n",
      "-160 is even\n"
     ]
    }
   ],
   "source": [
    "X=[3,9,12,15,20,22,29,39]\n",
    "a=len(X)\n",
    "b=0\n",
    "c=0\n",
    "d=(X[0]+X[a-1])\n",
    "for i in X:\n",
    "    if(d%2==0):\n",
    "        for i in range(0,a):\n",
    "            if(i%2==0):\n",
    "                b=b+X[i]\n",
    "\n",
    "            else:\n",
    "                for i in range(0,a):\n",
    "                    if(i%2==0):\n",
    "                        b=b+X[i]\n",
    "                    else:\n",
    "                        c=c+X[i]\n",
    "print(b)\n",
    "print(c)\n",
    "p=b-c\n",
    "if(p%2==0):\n",
    "    print(p,\"is even\")\n",
    "else:\n",
    "    print(p,\"is odd\")\n",
    "                        \n",
    "        #62"
   ]
  },
  {
   "cell_type": "code",
   "execution_count": 13,
   "metadata": {},
   "outputs": [
    {
     "name": "stdout",
     "output_type": "stream",
     "text": [
      "length 13 [3, 12, 11, 21, 35, 63, 79, 89, 11, 21, 22, 44, 66]\n",
      "6 [3, 12, 11, 21, 35, 63]\n",
      "5 [79, 89, 11, 21, 22]\n",
      "2 [44, 66]\n"
     ]
    }
   ],
   "source": [
    "X=[3,12,11,21,35,63,79,89,11,21,22,44,66]\n",
    "a=[]\n",
    "d=[]\n",
    "e=[]\n",
    "b=1\n",
    "c=1\n",
    "k=1\n",
    "x=len(X)\n",
    "print(\"length\",x,X)\n",
    "for i in range(0,x):\n",
    "    if(x%3==0):\n",
    "        k=x//3\n",
    "        k=k+2\n",
    "        b=k-2\n",
    "        c=k-4    \n",
    "               \n",
    "    elif(x%2==0):\n",
    "        k=x//2\n",
    "        b=k//2\n",
    "        b=b+1\n",
    "        c=b-1\n",
    "        \n",
    "    else:\n",
    "        k=(x-1)//2\n",
    "        b=k//2\n",
    "        b=b+2\n",
    "        c=b//2\n",
    "\n",
    "a=X[:k]\n",
    "d=X[k:-c:]\n",
    "e=X[x-c:]\n",
    "      \n",
    "print(k,a)\n",
    "print(b,d)\n",
    "print(c,e)\n",
    "\n",
    "\n",
    "\n",
    "\n",
    "\n",
    "    "
   ]
  },
  {
   "cell_type": "code",
   "execution_count": 196,
   "metadata": {},
   "outputs": [
    {
     "name": "stdout",
     "output_type": "stream",
     "text": [
      "[3, 12, 11, 21, 35, 63, 79]\n"
     ]
    }
   ],
   "source": [
    "X=[3,12,11,21,35,63,79,89,11,21,32,12,13,25,65,45]\n",
    "x=len(X)\n",
    "k=x//3\n",
    "k=k+2\n",
    "a=X[:k]\n",
    "print(a)"
   ]
  },
  {
   "cell_type": "code",
   "execution_count": 40,
   "metadata": {},
   "outputs": [
    {
     "name": "stdout",
     "output_type": "stream",
     "text": [
      "[0, 1, 2]\n",
      "[3, 4, 5, 6, 7, 8]\n",
      "[3, 4, 5, 6, 7, 8]\n"
     ]
    }
   ],
   "source": [
    " A = [0,1,2,3,4,5,6,7,8]\n",
    "l = len(A)/3\n",
    "B = A[:int(l)]\n",
    "C = A[int(l):]\n",
    "D = A[int(l):]\n",
    "print(B)\n",
    "print(C)\n",
    "print(D)"
   ]
  },
  {
   "cell_type": "code",
   "execution_count": 42,
   "metadata": {},
   "outputs": [
    {
     "name": "stdout",
     "output_type": "stream",
     "text": [
      "[1, 2, 3, 4, 5, 6]\n",
      "[1, 2, 3]\n",
      "[4, 5, 6]\n"
     ]
    }
   ],
   "source": [
    "A = [1,2,3,4,5,6]\n",
    "B = A[:len(A)//2]\n",
    "C = A[len(A)//2:]\n",
    "print(A)\n",
    "print(B)\n",
    "print(C)"
   ]
  }
 ],
 "metadata": {
  "kernelspec": {
   "display_name": "Python 3",
   "language": "python",
   "name": "python3"
  },
  "language_info": {
   "codemirror_mode": {
    "name": "ipython",
    "version": 3
   },
   "file_extension": ".py",
   "mimetype": "text/x-python",
   "name": "python",
   "nbconvert_exporter": "python",
   "pygments_lexer": "ipython3",
   "version": "3.7.3"
  }
 },
 "nbformat": 4,
 "nbformat_minor": 2
}
