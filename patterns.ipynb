{
 "cells": [
  {
   "cell_type": "code",
   "execution_count": 11,
   "metadata": {},
   "outputs": [
    {
     "name": "stdout",
     "output_type": "stream",
     "text": [
      "1 \n",
      "2 3 \n",
      "4 5 6 \n",
      "7 8 9 10 \n",
      "11 12 13 14 15 \n"
     ]
    }
   ],
   "source": [
    "k=1\n",
    "for i in range(0,5):\n",
    "    for j in range(0,i+1):\n",
    "        print(k,end=\" \")\n",
    "        k=k+1\n",
    "    print()"
   ]
  },
  {
   "cell_type": "code",
   "execution_count": 12,
   "metadata": {},
   "outputs": [
    {
     "name": "stdout",
     "output_type": "stream",
     "text": [
      "1 \n",
      "2 2 \n",
      "3 3 3 \n",
      "4 4 4 4 \n",
      "5 5 5 5 5 \n"
     ]
    }
   ],
   "source": [
    "for i in range(0,5):\n",
    "    for j in range(0,i+1):\n",
    "        print(i+1,end=\" \")\n",
    "    print()"
   ]
  },
  {
   "cell_type": "code",
   "execution_count": 1,
   "metadata": {},
   "outputs": [
    {
     "name": "stdout",
     "output_type": "stream",
     "text": [
      "   #\n",
      "  ###\n",
      " #####\n",
      "#######\n"
     ]
    }
   ],
   "source": [
    "for i in range(0,4):\n",
    "    for j in range(0,3-i):\n",
    "        print(\" \",end=\"\")\n",
    "    \n",
    "    for j in range(0,2*i+1):\n",
    "        print(\"#\",end=\"\")\n",
    "    print()"
   ]
  },
  {
   "cell_type": "code",
   "execution_count": 7,
   "metadata": {},
   "outputs": [
    {
     "name": "stdout",
     "output_type": "stream",
     "text": [
      "#######\n",
      " #####\n",
      "  ###\n",
      "   #\n"
     ]
    }
   ],
   "source": [
    "for i in range(0,4):\n",
    "    for j in range(0,i):\n",
    "        print(\" \",end=\"\")\n",
    "        \n",
    "        \n",
    "    for j in range(0,7-2*i):\n",
    "        print(\"#\",end=\"\")  \n",
    "    print()"
   ]
  },
  {
   "cell_type": "code",
   "execution_count": 2,
   "metadata": {},
   "outputs": [
    {
     "name": "stdout",
     "output_type": "stream",
     "text": [
      "#\n",
      "##\n",
      "###\n",
      "####\n"
     ]
    }
   ],
   "source": [
    "for i in range(0,4):\n",
    "    for j in range(0,i+1):\n",
    "       print(\"#\",end=\"\")\n",
    "    print()"
   ]
  },
  {
   "cell_type": "code",
   "execution_count": 6,
   "metadata": {},
   "outputs": [
    {
     "name": "stdout",
     "output_type": "stream",
     "text": [
      "####\n",
      "###\n",
      "##\n",
      "#\n"
     ]
    }
   ],
   "source": [
    "for i in range(0,4):\n",
    "    for j in range(0,4-i):\n",
    "        print(\"#\",end=\"\")\n",
    "    print()"
   ]
  },
  {
   "cell_type": "code",
   "execution_count": 3,
   "metadata": {},
   "outputs": [
    {
     "name": "stdout",
     "output_type": "stream",
     "text": [
      "#\n",
      "##\n",
      "###\n",
      "####\n",
      "###\n",
      "##\n",
      "#\n"
     ]
    }
   ],
   "source": [
    "for i in range(0,7):\n",
    "    if(i<4):\n",
    "        for j in range(0,i+1):\n",
    "            print(\"#\",end=\"\")\n",
    "        \n",
    "    else:\n",
    "        \n",
    "        for k in range(0,7-i):\n",
    "            print(\"#\",end=\"\")\n",
    "    print()"
   ]
  },
  {
   "cell_type": "code",
   "execution_count": 5,
   "metadata": {},
   "outputs": [
    {
     "name": "stdout",
     "output_type": "stream",
     "text": [
      "   #\n",
      "  ###\n",
      " #####\n",
      "#######\n",
      " #####\n",
      "  ###\n",
      "   #\n"
     ]
    }
   ],
   "source": [
    "for i in range(0,7):\n",
    "    if(i<4):\n",
    "        for j in range(0,3-i):\n",
    "            print(\" \",end=\"\")\n",
    "    \n",
    "        for j in range(0,2*i+1):\n",
    "            print(\"#\",end=\"\")\n",
    "        \n",
    "    else:\n",
    "        for j in range(0,i-3):\n",
    "            print(\" \",end=\"\")\n",
    "            \n",
    "        for j in range(0,13-i*2):\n",
    "             print(\"#\",end=\"\")\n",
    "    print()"
   ]
  },
  {
   "cell_type": "code",
   "execution_count": 8,
   "metadata": {},
   "outputs": [
    {
     "name": "stdout",
     "output_type": "stream",
     "text": [
      "###^###\n",
      "##^^^##\n",
      "#^^^^^#\n",
      "^^^^^^^\n"
     ]
    }
   ],
   "source": [
    "for i in range(0,4):\n",
    "    for j in range(0,3-i):\n",
    "        print(\"#\",end=\"\")\n",
    "    \n",
    "    for j in range(0,2*i+1):\n",
    "        print(\"^\",end=\"\")\n",
    "        \n",
    "    for j in range(0,3-i):\n",
    "        print(\"#\",end=\"\")\n",
    "    print()\n"
   ]
  },
  {
   "cell_type": "code",
   "execution_count": 9,
   "metadata": {},
   "outputs": [
    {
     "name": "stdout",
     "output_type": "stream",
     "text": [
      "^#######\n",
      "^^^#####\n",
      "^^^^^###\n",
      "^^^^^^^#\n"
     ]
    }
   ],
   "source": [
    "for i in range(0,4):\n",
    "    for j in range(0,2*i+1):\n",
    "        print(\"^\",end=\"\")\n",
    "        \n",
    "    for j in range(0,7-2*i):\n",
    "        print(\"#\",end=\"\")\n",
    "    print()"
   ]
  },
  {
   "cell_type": "code",
   "execution_count": 10,
   "metadata": {},
   "outputs": [
    {
     "name": "stdout",
     "output_type": "stream",
     "text": [
      "AAAA^^^^\n",
      "^AAAA^^^\n",
      "^^AAAA^^\n",
      "^^^AAAA^\n",
      "^^^^AAAA\n"
     ]
    }
   ],
   "source": [
    "for i in range(0,5):\n",
    "    for j in range(1,i+1):\n",
    "        print(\"^\",end=\"\")\n",
    "        \n",
    "    for j in range(1,5-i):\n",
    "        print(\"A\",end=\"\")\n",
    "    \n",
    "    for j in range(1,i+1):\n",
    "        print(\"A\",end=\"\")\n",
    "        \n",
    "    for j in range(1,5-i):\n",
    "        print(\"^\",end=\"\")\n",
    "    print()"
   ]
  },
  {
   "cell_type": "code",
   "execution_count": null,
   "metadata": {},
   "outputs": [],
   "source": []
  }
 ],
 "metadata": {
  "kernelspec": {
   "display_name": "Python 3",
   "language": "python",
   "name": "python3"
  },
  "language_info": {
   "codemirror_mode": {
    "name": "ipython",
    "version": 3
   },
   "file_extension": ".py",
   "mimetype": "text/x-python",
   "name": "python",
   "nbconvert_exporter": "python",
   "pygments_lexer": "ipython3",
   "version": "3.7.3"
  }
 },
 "nbformat": 4,
 "nbformat_minor": 2
}
