{
 "cells": [
  {
   "cell_type": "code",
   "execution_count": 7,
   "metadata": {},
   "outputs": [
    {
     "name": "stdout",
     "output_type": "stream",
     "text": [
      "13\n",
      "26\n",
      "39\n",
      "52\n",
      "65\n",
      "78\n",
      "91\n",
      "104\n",
      "117\n",
      "130\n"
     ]
    }
   ],
   "source": [
    "for i in range(1,11):\n",
    "    print((6*i)+(7*i))"
   ]
  },
  {
   "cell_type": "code",
   "execution_count": 8,
   "metadata": {},
   "outputs": [
    {
     "name": "stdout",
     "output_type": "stream",
     "text": [
      "at\n",
      "rai\n"
     ]
    }
   ],
   "source": [
    "print(\"at\")\n",
    "print(\"rai\")"
   ]
  },
  {
   "cell_type": "code",
   "execution_count": 13,
   "metadata": {},
   "outputs": [
    {
     "name": "stdout",
     "output_type": "stream",
     "text": [
      "at rai\n"
     ]
    }
   ],
   "source": [
    "print(\"at\",end=\" \")\n",
    "print(\"rai\")"
   ]
  },
  {
   "cell_type": "code",
   "execution_count": 32,
   "metadata": {},
   "outputs": [
    {
     "name": "stdout",
     "output_type": "stream",
     "text": [
      "# # # # \n",
      "# # # # \n",
      "# # # # \n",
      "# # # # \n"
     ]
    }
   ],
   "source": [
    "for i in range(0,4):\n",
    "    for j in range(0,4):\n",
    "        print(\"#\",end=\" \")\n",
    "    print()\n",
    " "
   ]
  },
  {
   "cell_type": "code",
   "execution_count": 33,
   "metadata": {},
   "outputs": [
    {
     "name": "stdout",
     "output_type": "stream",
     "text": [
      "\n",
      "#\n",
      "##\n",
      "###\n",
      "####\n"
     ]
    }
   ],
   "source": [
    "for i in range(0,5):\n",
    "    print(\"#\"*i)"
   ]
  },
  {
   "cell_type": "code",
   "execution_count": 38,
   "metadata": {},
   "outputs": [
    {
     "name": "stdout",
     "output_type": "stream",
     "text": [
      "# \n",
      "# # \n",
      "# # # \n",
      "# # # # \n"
     ]
    }
   ],
   "source": [
    "for i in range(0,4):\n",
    "    for j in range(0,i+1):\n",
    "        print(\"#\",end=\" \")\n",
    "    print()"
   ]
  },
  {
   "cell_type": "code",
   "execution_count": 41,
   "metadata": {},
   "outputs": [
    {
     "name": "stdout",
     "output_type": "stream",
     "text": [
      "# # # # \n",
      "# # # \n",
      "# # \n",
      "# \n"
     ]
    }
   ],
   "source": [
    "for i in range(0,4):\n",
    "    for j in range(i,4):\n",
    "        print(\"#\",end=\" \")\n",
    "    print()"
   ]
  },
  {
   "cell_type": "code",
   "execution_count": 48,
   "metadata": {},
   "outputs": [
    {
     "name": "stdout",
     "output_type": "stream",
     "text": [
      "   #\n",
      "  ###\n",
      " #####\n",
      "#######\n"
     ]
    }
   ],
   "source": [
    "for i in range(0,4):\n",
    "    for j in range(0,3-i):\n",
    "        print(\" \",end=\"\")\n",
    "    \n",
    "    for j in range(0,2*i+1):\n",
    "        print(\"#\",end=\"\")\n",
    "    print()"
   ]
  },
  {
   "cell_type": "code",
   "execution_count": 62,
   "metadata": {},
   "outputs": [
    {
     "name": "stdout",
     "output_type": "stream",
     "text": [
      "      # \n",
      "    # # # \n",
      "  # # # # # \n",
      "# # # # # # # \n",
      "  # # # # # \n",
      "    # # # \n",
      "      # \n"
     ]
    }
   ],
   "source": [
    "for i in range(0,7):\n",
    "    if(i<4):\n",
    "        for j in range(0,3-i):\n",
    "            print(\" \",end=\" \")\n",
    "    \n",
    "        for j in range(0,2*i+1):\n",
    "            print(\"#\",end=\" \")\n",
    "        \n",
    "    else:\n",
    "        for j in range(0,i-3):\n",
    "            print(\" \",end=\" \")\n",
    "            \n",
    "        for j in range(0,13-i*2):\n",
    "             print(\"#\",end=\" \")\n",
    "    print()"
   ]
  },
  {
   "cell_type": "code",
   "execution_count": 1,
   "metadata": {},
   "outputs": [
    {
     "name": "stdout",
     "output_type": "stream",
     "text": [
      "India\n",
      "India\n",
      "India\n"
     ]
    }
   ],
   "source": [
    "a=3\n",
    "while(a<6):\n",
    "    print(\"India\")\n",
    "    a=a+1"
   ]
  },
  {
   "cell_type": "code",
   "execution_count": 7,
   "metadata": {},
   "outputs": [
    {
     "name": "stdout",
     "output_type": "stream",
     "text": [
      "495\n"
     ]
    }
   ],
   "source": [
    "a=1\n",
    "k=0\n",
    "while(a<11):\n",
    "    k=k+(6*a+3*a)\n",
    "    a=a+1\n",
    "print(k)"
   ]
  },
  {
   "cell_type": "code",
   "execution_count": 2,
   "metadata": {},
   "outputs": [
    {
     "name": "stdout",
     "output_type": "stream",
     "text": [
      "1\n",
      "2\n",
      "198623\n"
     ]
    }
   ],
   "source": [
    "x=397246\n",
    "b=1\n",
    "c=0\n",
    "while(b<x):\n",
    "    if(x%b==0):\n",
    "        print(b)\n",
    "    b=b+1"
   ]
  },
  {
   "cell_type": "code",
   "execution_count": 8,
   "metadata": {},
   "outputs": [
    {
     "name": "stdout",
     "output_type": "stream",
     "text": [
      "odd 1\n",
      "even 2\n",
      "odd 3\n",
      "even 4\n",
      "odd 5\n",
      "even 6\n",
      "odd 7\n",
      "odd 8\n",
      "odd 9\n",
      "even 10\n",
      "odd 11\n",
      "even 12\n",
      "odd 13\n",
      "odd 14\n",
      "odd 15\n",
      "odd 16\n",
      "odd 17\n",
      "odd 18\n",
      "odd 19\n",
      "even 20\n",
      "odd 21\n",
      "odd 22\n",
      "odd 23\n",
      "odd 24\n",
      "odd 25\n",
      "odd 26\n",
      "odd 27\n",
      "odd 28\n",
      "odd 29\n",
      "even 30\n",
      "odd 31\n",
      "odd 32\n",
      "odd 33\n",
      "odd 34\n",
      "odd 35\n",
      "odd 36\n",
      "odd 37\n",
      "odd 38\n",
      "odd 39\n",
      "odd 40\n",
      "odd 41\n",
      "odd 42\n",
      "odd 43\n",
      "odd 44\n",
      "odd 45\n",
      "odd 46\n",
      "odd 47\n",
      "odd 48\n",
      "odd 49\n",
      "odd 50\n",
      "odd 51\n",
      "odd 52\n",
      "odd 53\n",
      "odd 54\n",
      "odd 55\n",
      "odd 56\n",
      "odd 57\n",
      "odd 58\n",
      "odd 59\n",
      "\n"
     ]
    }
   ],
   "source": [
    "x=60\n",
    "b=1\n",
    "c=0\n",
    "while(b<x):\n",
    "    if(x%b==0)&(b%2==0):\n",
    "        print(\"even\",b)\n",
    "    else:\n",
    "        print(\"odd\",b)\n",
    "    b=b+1\n",
    "print()"
   ]
  },
  {
   "cell_type": "code",
   "execution_count": 1,
   "metadata": {},
   "outputs": [
    {
     "name": "stdout",
     "output_type": "stream",
     "text": [
      "1\n",
      "2\n",
      "3\n",
      "4\n",
      "5\n",
      "6\n",
      "10\n",
      "12\n",
      "15\n",
      "20\n",
      "30\n"
     ]
    }
   ],
   "source": [
    "x=60\n",
    "b=1\n",
    "c=0\n",
    "while(b<x):\n",
    "    if(x%b==0):\n",
    "        print(b)\n",
    "    b=b+1"
   ]
  },
  {
   "cell_type": "code",
   "execution_count": null,
   "metadata": {},
   "outputs": [],
   "source": []
  }
 ],
 "metadata": {
  "kernelspec": {
   "display_name": "Python 3",
   "language": "python",
   "name": "python3"
  },
  "language_info": {
   "codemirror_mode": {
    "name": "ipython",
    "version": 3
   },
   "file_extension": ".py",
   "mimetype": "text/x-python",
   "name": "python",
   "nbconvert_exporter": "python",
   "pygments_lexer": "ipython3",
   "version": "3.7.3"
  }
 },
 "nbformat": 4,
 "nbformat_minor": 2
}
