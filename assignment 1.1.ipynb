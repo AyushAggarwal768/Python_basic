{
 "cells": [
  {
   "cell_type": "code",
   "execution_count": 3,
   "metadata": {},
   "outputs": [
    {
     "name": "stdout",
     "output_type": "stream",
     "text": [
      "even no. fom A [12, 4, 54, 16, 78, 98, 54]\n",
      "Odd no. from B [21, 45, 89, 89, 21, 5]\n",
      "[33, 49, 143, 105, 99, 103]\n"
     ]
    }
   ],
   "source": [
    "A=[12,3,4,54,16,78,98,54]\n",
    "B=[21,45,76,89,89,21,34,5]\n",
    "C=[]\n",
    "D=[]\n",
    "E=[]\n",
    "for i in range(0,len(A)):\n",
    "    if(A[i]%2==0):\n",
    "        C.append(A[i])\n",
    "print(\"even no. fom A\",C)\n",
    "for j in range(0,len(B)):\n",
    "    if(B[j]%2!=0):\n",
    "        D.append(B[j])\n",
    "print(\"Odd no. from B\",D)\n",
    "for i in range(0,len(C)):\n",
    "    for j in range(0,len(D)):\n",
    "        if(i==j):\n",
    "            sum=C[i]+D[j]\n",
    "            E.append(sum)\n",
    "print(E)\n",
    "        \n",
    "               \n",
    "             "
   ]
  },
  {
   "cell_type": "code",
   "execution_count": null,
   "metadata": {},
   "outputs": [],
   "source": []
  }
 ],
 "metadata": {
  "kernelspec": {
   "display_name": "Python 3",
   "language": "python",
   "name": "python3"
  },
  "language_info": {
   "codemirror_mode": {
    "name": "ipython",
    "version": 3
   },
   "file_extension": ".py",
   "mimetype": "text/x-python",
   "name": "python",
   "nbconvert_exporter": "python",
   "pygments_lexer": "ipython3",
   "version": "3.7.3"
  }
 },
 "nbformat": 4,
 "nbformat_minor": 2
}
