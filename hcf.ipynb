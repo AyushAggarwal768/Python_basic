{
 "cells": [
  {
   "cell_type": "code",
   "execution_count": 1,
   "metadata": {},
   "outputs": [],
   "source": [
    "def b(x,y):\n",
    "    if(x>y):\n",
    "        k=x\n",
    "    else:\n",
    "        k=y\n",
    "    while(k>0):\n",
    "        if(x%k==0)&(y%k==0):\n",
    "            return(\"hcf is\",k)\n",
    "            break\n",
    "        k=k-1     "
   ]
  },
  {
   "cell_type": "code",
   "execution_count": 2,
   "metadata": {},
   "outputs": [
    {
     "name": "stdout",
     "output_type": "stream",
     "text": [
      "hcf is 1\n"
     ]
    }
   ],
   "source": [
    "b(3,4)"
   ]
  },
  {
   "cell_type": "code",
   "execution_count": 3,
   "metadata": {},
   "outputs": [],
   "source": [
    "def c(x):\n",
    "    k=0\n",
    "    b=1\n",
    "    while(b<(x+1)):\n",
    "        if(x%b==0):\n",
    "            k=k+1\n",
    "        b=b+1\n",
    "    if(k==2):\n",
    "        return(x,\"is prime\")\n",
    "    else:\n",
    "        return(x,\"is not prime\")\n"
   ]
  },
  {
   "cell_type": "code",
   "execution_count": 5,
   "metadata": {},
   "outputs": [
    {
     "data": {
      "text/plain": [
       "(8, 'is not prime')"
      ]
     },
     "execution_count": 5,
     "metadata": {},
     "output_type": "execute_result"
    }
   ],
   "source": [
    "c(8)"
   ]
  },
  {
   "cell_type": "code",
   "execution_count": null,
   "metadata": {},
   "outputs": [],
   "source": []
  }
 ],
 "metadata": {
  "kernelspec": {
   "display_name": "Python 3",
   "language": "python",
   "name": "python3"
  },
  "language_info": {
   "codemirror_mode": {
    "name": "ipython",
    "version": 3
   },
   "file_extension": ".py",
   "mimetype": "text/x-python",
   "name": "python",
   "nbconvert_exporter": "python",
   "pygments_lexer": "ipython3",
   "version": "3.7.3"
  }
 },
 "nbformat": 4,
 "nbformat_minor": 2
}
